{
  "cells": [
    {
      "cell_type": "markdown",
      "metadata": {},
      "source": [
        "## How to Load an Image with Keras\n",
        "Keras provides the load img() function for loading an image from file as a PIL image object.\n",
        "The example below loads the Bondi Beach photograph from file as a PIL image and reports\n",
        "details about the loaded image."
      ]
    },
    {
      "cell_type": "markdown",
      "metadata": {},
      "source": [
        "Running the example loads the image and reports details about the loaded image. We can\n",
        "confirm that the image was loaded as a PIL image in JPEG format with RGB channels and the\n",
        "size of 640 by 427 pixels."
      ]
    },
    {
      "cell_type": "markdown",
      "metadata": {},
      "source": [
        "The load_img() function provides additional arguments that may be useful when loading\n",
        "the image, such as \u00e2\u20ac\u02dcgrayscale\u00e2\u20ac\u2122 that allows the image to be loaded in grayscale (defaults to\n",
        "False), color mode that allows the image mode or channel format to be specified (defaults to\n",
        "rgb), and target size that allows a tuple of (height, width) to be specified, resizing the image\n",
        "automatically after being loaded."
      ]
    },
    {
      "cell_type": "code",
      "metadata": {},
      "source": [
        "# example of loading an image with the Keras API\n",
        "from keras.preprocessing.image import load_img\n",
        "# load the image\n",
        "img = load_img('bondi_beach.jpg')\n",
        "# report details about the image\n",
        "print(type(img))\n",
        "print(img.format)\n",
        "print(img.mode)\n",
        "print(img.size)\n",
        "# show the image\n",
        "img.show()\n",
        "\n",
        "from IPython.display import display # to display images\n",
        "display(img)"
      ],
      "outputs": [],
      "execution_count": null
    }
  ],
  "metadata": {
    "anaconda-cloud": {},
    "kernelspec": {
      "display_name": "Python 3",
      "language": "python",
      "name": "python3"
    },
    "language_info": {
      "codemirror_mode": {
        "name": "ipython",
        "version": 3
      },
      "file_extension": ".py",
      "mimetype": "text/x-python",
      "name": "python",
      "nbconvert_exporter": "python",
      "pygments_lexer": "ipython3",
      "version": "3.6.1"
    }
  },
  "nbformat": 4,
  "nbformat_minor": 1
}