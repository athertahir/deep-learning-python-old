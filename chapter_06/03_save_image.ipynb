{
  "cells": [
    {
      "cell_type": "markdown",
      "metadata": {},
      "source": [
        "## How to Save an Image With Keras\n",
        "The Keras API also provides the save img() function to save an image to file. The function\n",
        "takes the path to save the image, and the image data in NumPy array format. The file format\n",
        "is inferred from the filename, but can also be specified via the file format argument. This can\n",
        "be useful if you have manipulated image pixel data, such as scaling, and wish to save the image\n",
        "for later use. The example below loads the photograph image in grayscale format, converts it to\n",
        "a NumPy array, and saves it to a new file name."
      ]
    },
    {
      "cell_type": "markdown",
      "metadata": {},
      "source": [
        "Running the example first loads the image and forces the color channels to be grayscale. The\n",
        "image is then converted to a NumPy array and saved to the new filename bondi beach grayscale.jpg\n",
        "in the current working directory. To confirm that the file was saved correctly, it is loaded again\n",
        "as a PIL image and details of the image are reported."
      ]
    },
    {
      "cell_type": "code",
      "metadata": {},
      "source": [
        "# example of saving an image with the Keras API\n",
        "from keras.preprocessing.image import load_img\n",
        "from keras.preprocessing.image import save_img\n",
        "from keras.preprocessing.image import img_to_array\n",
        "# load image as as grayscale\n",
        "img = load_img('bondi_beach.jpg', color_mode='grayscale')\n",
        "# convert image to a numpy array\n",
        "img_array = img_to_array(img)\n",
        "# save the image with a new filename\n",
        "save_img('bondi_beach_grayscale.jpg', img_array)\n",
        "# load the image to confirm it was saved correctly\n",
        "img = load_img('bondi_beach_grayscale.jpg')\n",
        "print(type(img))\n",
        "print(img.format)\n",
        "print(img.mode)\n",
        "print(img.size)\n",
        "#img.show()\n",
        "\n",
        "from IPython.display import display # to display images\n",
        "display(img)\n"
      ],
      "outputs": [],
      "execution_count": null
    }
  ],
  "metadata": {
    "anaconda-cloud": {},
    "kernelspec": {
      "display_name": "Python 3",
      "language": "python",
      "name": "python3"
    },
    "language_info": {
      "codemirror_mode": {
        "name": "ipython",
        "version": 3
      },
      "file_extension": ".py",
      "mimetype": "text/x-python",
      "name": "python",
      "nbconvert_exporter": "python",
      "pygments_lexer": "ipython3",
      "version": "3.6.1"
    }
  },
  "nbformat": 4,
  "nbformat_minor": 1
}