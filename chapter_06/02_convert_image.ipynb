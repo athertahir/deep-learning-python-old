{
  "cells": [
    {
      "cell_type": "markdown",
      "metadata": {},
      "source": [
        "## How to Convert an Image With Keras\n",
        "Keras provides the img to array() function for converting a loaded image in PIL format into\n",
        "a NumPy array for use with deep learning models. The API also provides the array to img()\n",
        "function that can be used for converting a NumPy array of pixel data into a PIL image. This\n",
        "can be useful if the pixel data is modified in array format because it can be saved or viewed.\n",
        "The example below loads the test image, converts it to a NumPy array, and then converts it\n",
        "back into a PIL image."
      ]
    },
    {
      "cell_type": "markdown",
      "metadata": {},
      "source": [
        "Running the example first loads the photograph in PIL format, then converts the image\n",
        "to a NumPy array and reports the data type and shape. We can see that the pixel values are\n",
        "converted from unsigned integers to 32-bit floating point values, and in this case, converted to\n",
        "the array format [height, width, channels]. Finally, the image is converted back into PIL format."
      ]
    },
    {
      "cell_type": "code",
      "metadata": {},
      "source": [
        "# example of converting an image with the Keras API\n",
        "from keras.preprocessing.image import load_img\n",
        "from keras.preprocessing.image import img_to_array\n",
        "from keras.preprocessing.image import array_to_img\n",
        "# load the image\n",
        "img = load_img('bondi_beach.jpg')\n",
        "print(type(img))\n",
        "# convert to numpy array\n",
        "img_array = img_to_array(img)\n",
        "print(img_array.dtype)\n",
        "print(img_array.shape)\n",
        "# convert back to image\n",
        "img_pil = array_to_img(img_array)\n",
        "print(type(img))"
      ],
      "outputs": [],
      "execution_count": null
    }
  ],
  "metadata": {
    "anaconda-cloud": {},
    "kernelspec": {
      "display_name": "Python 3",
      "language": "python",
      "name": "python3"
    },
    "language_info": {
      "codemirror_mode": {
        "name": "ipython",
        "version": 3
      },
      "file_extension": ".py",
      "mimetype": "text/x-python",
      "name": "python",
      "nbconvert_exporter": "python",
      "pygments_lexer": "ipython3",
      "version": "3.6.1"
    }
  },
  "nbformat": 4,
  "nbformat_minor": 1
}