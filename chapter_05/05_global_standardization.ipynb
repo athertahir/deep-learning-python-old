{
  "cells": [
    {
      "cell_type": "markdown",
      "metadata": {},
      "source": [
        "## Standardize Pixel Values\n",
        "The distribution of pixel values often follows a Normal or Gaussian distribution, e.g. bell\n",
        "shape. This distribution may be present per image, per minibatch of images, or across the\n",
        "training dataset and globally or per channel. As such, there may be benefit in transforming the\n",
        "distribution of pixel values to be a standard Gaussian: that is both centering the pixel values on\n",
        "zero and normalizing the values by the standard deviation. The result is a standard Gaussian\n",
        "of pixel values with a mean of 0.0 and a standard deviation of 1.0.\n",
        "\n",
        "As with centering, the operation can be performed per image, per minibatch, and across\n",
        "the entire training dataset, and it can be performed globally across channels or locally per\n",
        "channel. Standardization may be preferred to normalization and centering alone and it results\n",
        "in both zero-centered values and small input values, roughly in the range -3 to 3, depending\n",
        "on the specifics of the dataset. For consistency of the input data, it may make more sense to\n",
        "standardize images per-channel using statistics calculated per minibatch or across the training\n",
        "dataset, if possible. Let\u00e2\u20ac\u2122s look at some examples."
      ]
    },
    {
      "cell_type": "markdown",
      "metadata": {},
      "source": [
        "## Global Standardization\n",
        "The example below calculates the mean and standard deviations across all color channels in the\n",
        "loaded image, then uses these values to standardize the pixel values"
      ]
    },
    {
      "cell_type": "code",
      "metadata": {},
      "source": [
        "# example of global pixel standardization\n",
        "from numpy import asarray\n",
        "from PIL import Image\n",
        "# load image\n",
        "image = Image.open('sydney_bridge.jpg')\n",
        "pixels = asarray(image)\n",
        "# convert from integers to floats\n",
        "pixels = pixels.astype('float32')\n",
        "# calculate global mean and standard deviation\n",
        "mean, std = pixels.mean(), pixels.std()\n",
        "print('Mean: %.3f, Standard Deviation: %.3f' % (mean, std))\n",
        "# global standardization of pixels\n",
        "pixels = (pixels - mean) / std\n",
        "# confirm it had the desired effect\n",
        "mean, std = pixels.mean(), pixels.std()\n",
        "print('Mean: %.3f, Standard Deviation: %.3f' % (mean, std))"
      ],
      "outputs": [],
      "execution_count": null
    },
    {
      "cell_type": "markdown",
      "metadata": {},
      "source": [
        "Running the example first calculates the global mean and standard deviation pixel values,\n",
        "standardizes the pixel values, then confirms the transform by reporting the new global mean\n",
        "and standard deviation of 0.0 and 1.0 respectively."
      ]
    }
  ],
  "metadata": {
    "anaconda-cloud": {},
    "kernelspec": {
      "display_name": "Python 3",
      "language": "python",
      "name": "python3"
    },
    "language_info": {
      "codemirror_mode": {
        "name": "ipython",
        "version": 3
      },
      "file_extension": ".py",
      "mimetype": "text/x-python",
      "name": "python",
      "nbconvert_exporter": "python",
      "pygments_lexer": "ipython3",
      "version": "3.6.1"
    }
  },
  "nbformat": 4,
  "nbformat_minor": 1
}