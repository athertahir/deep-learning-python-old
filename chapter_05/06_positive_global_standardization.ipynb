{
  "cells": [
    {
      "cell_type": "markdown",
      "metadata": {},
      "source": [
        "## Positive Global Standardization\n",
        "There may be a desire to maintain the pixel values in the positive domain, perhaps so the images\n",
        "can be visualized or perhaps for the benefit of a chosen activation function in the model. A\n",
        "popular way of achieving this is to clip the standardized pixel values to the range [-1, 1] and then\n",
        "rescale the values from [-1,1] to [0,1]. The example below updates the global standardization\n",
        "example to demonstrate this additional rescaling."
      ]
    },
    {
      "cell_type": "markdown",
      "metadata": {},
      "source": [
        "Running the example first calculates the global mean and standard deviation pixel values,\n",
        "standardizes the pixel values, then confirms the transform by reporting the new global mean\n",
        "and standard deviation of 0.0 and 1.0 respectively."
      ]
    },
    {
      "cell_type": "code",
      "metadata": {},
      "source": [
        "# example of global pixel standardization shifted to positive domain\n",
        "from numpy import asarray\n",
        "from numpy import clip\n",
        "from PIL import Image\n",
        "# load image\n",
        "image = Image.open('sydney_bridge.jpg')\n",
        "pixels = asarray(image)\n",
        "# convert from integers to floats\n",
        "pixels = pixels.astype('float32')\n",
        "# calculate global mean and standard deviation\n",
        "mean, std = pixels.mean(), pixels.std()\n",
        "print('Mean: %.3f, Standard Deviation: %.3f' % (mean, std))\n",
        "# global standardization of pixels\n",
        "pixels = (pixels - mean) / std\n",
        "# clip pixel values to [-1,1]\n",
        "pixels = clip(pixels, -1.0, 1.0)\n",
        "# shift from [-1,1] to [0,1] with 0.5 mean\n",
        "pixels = (pixels + 1.0) / 2.0\n",
        "# confirm it had the desired effect\n",
        "mean, std = pixels.mean(), pixels.std()\n",
        "print('Mean: %.3f, Standard Deviation: %.3f' % (mean, std))\n",
        "print('Min: %.3f, Max: %.3f' % (pixels.min(), pixels.max()))\n"
      ],
      "outputs": [],
      "execution_count": null
    }
  ],
  "metadata": {
    "anaconda-cloud": {},
    "kernelspec": {
      "display_name": "Python 3",
      "language": "python",
      "name": "python3"
    },
    "language_info": {
      "codemirror_mode": {
        "name": "ipython",
        "version": 3
      },
      "file_extension": ".py",
      "mimetype": "text/x-python",
      "name": "python",
      "nbconvert_exporter": "python",
      "pygments_lexer": "ipython3",
      "version": "3.6.1"
    }
  },
  "nbformat": 4,
  "nbformat_minor": 1
}