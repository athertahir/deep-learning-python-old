{
  "cells": [
    {
      "cell_type": "code",
      "metadata": {},
      "source": [
        "# example of global pixel standardization shifted to positive domain\n",
        "from numpy import asarray\n",
        "from numpy import clip\n",
        "from PIL import Image\n",
        "# load image\n",
        "image = Image.open('sydney_bridge.jpg')\n",
        "pixels = asarray(image)\n",
        "# convert from integers to floats\n",
        "pixels = pixels.astype('float32')\n",
        "# calculate global mean and standard deviation\n",
        "mean, std = pixels.mean(), pixels.std()\n",
        "print('Mean: %.3f, Standard Deviation: %.3f' % (mean, std))\n",
        "# global standardization of pixels\n",
        "pixels = (pixels - mean) / std\n",
        "# clip pixel values to [-1,1]\n",
        "pixels = clip(pixels, -1.0, 1.0)\n",
        "# shift from [-1,1] to [0,1] with 0.5 mean\n",
        "pixels = (pixels + 1.0) / 2.0\n",
        "# confirm it had the desired effect\n",
        "mean, std = pixels.mean(), pixels.std()\n",
        "print('Mean: %.3f, Standard Deviation: %.3f' % (mean, std))\n",
        "print('Min: %.3f, Max: %.3f' % (pixels.min(), pixels.max()))"
      ],
      "outputs": [],
      "execution_count": null
    }
  ],
  "metadata": {
    "anaconda-cloud": {},
    "kernelspec": {
      "display_name": "Python 3",
      "language": "python",
      "name": "python3"
    },
    "language_info": {
      "codemirror_mode": {
        "name": "ipython",
        "version": 3
      },
      "file_extension": ".py",
      "mimetype": "text/x-python",
      "name": "python",
      "nbconvert_exporter": "python",
      "pygments_lexer": "ipython3",
      "version": "3.6.1"
    }
  },
  "nbformat": 4,
  "nbformat_minor": 1
}