{
  "cells": [
    {
      "cell_type": "markdown",
      "metadata": {},
      "source": [
        "## Normalize Pixel Values\n",
        "For most image data, the pixel values are integers with values between 0 and 255. Neural\n",
        "networks process inputs using small weight values, and inputs with large integer values can\n",
        "disrupt or slow down the learning process. As such it is good practice to normalize the pixel\n",
        "values so that each pixel value has a value between 0 and 1. It is valid for images to have pixel\n",
        "values in the range 0-1 and images can be viewed normally.\n",
        "\n",
        "This can be achieved by dividing all pixels values by the largest pixel value; that is 255.\n",
        "This is performed across all channels, regardless of the actual range of pixel values that are\n",
        "present in the image. The example below loads the image and converts it into a NumPy array.\n",
        "The data type of the array is reported and the minimum and maximum pixel values across all\n",
        "three channels are then printed. Next, the array is converted to the float data type before the\n",
        "pixel values are normalized and the new range of pixel values is reported."
      ]
    },
    {
      "cell_type": "markdown",
      "metadata": {},
      "source": [
        "Running the example prints the data type of the NumPy array of pixel values, which we can\n",
        "see is an 8-bit unsigned integer.\n",
        "The min and maximum pixel values are printed, showing the expected 0 and 255 respectively.\n",
        "The pixel values are normalized and the new minimum and maximum of 0.0 and 1.0 are then\n",
        "reported."
      ]
    },
    {
      "cell_type": "code",
      "metadata": {},
      "source": [
        "# example of pixel normalization\n",
        "from numpy import asarray\n",
        "from PIL import Image\n",
        "# load image\n",
        "image = Image.open('sydney_bridge.jpg')\n",
        "pixels = asarray(image)\n",
        "# confirm pixel range is 0-255\n",
        "print('Data Type: %s' % pixels.dtype)\n",
        "print('Min: %.3f, Max: %.3f' % (pixels.min(), pixels.max()))\n",
        "# convert from integers to floats\n",
        "pixels = pixels.astype('float32')\n",
        "# normalize to the range 0-1\n",
        "pixels /= 255.0\n",
        "# confirm the normalization\n",
        "print('Min: %.3f, Max: %.3f' % (pixels.min(), pixels.max()))\n"
      ],
      "outputs": [],
      "execution_count": null
    },
    {
      "cell_type": "markdown",
      "metadata": {},
      "source": [
        "Normalization is a good default data preparation that can be performed if you are in doubt\n",
        "as to the type of data preparation to perform. It can be performed per image and does not\n",
        "require the calculation of statistics across the training dataset, as the range of pixel values is a\n",
        "domain standard."
      ]
    }
  ],
  "metadata": {
    "anaconda-cloud": {},
    "kernelspec": {
      "display_name": "Python 3",
      "language": "python",
      "name": "python3"
    },
    "language_info": {
      "codemirror_mode": {
        "name": "ipython",
        "version": 3
      },
      "file_extension": ".py",
      "mimetype": "text/x-python",
      "name": "python",
      "nbconvert_exporter": "python",
      "pygments_lexer": "ipython3",
      "version": "3.6.1"
    }
  },
  "nbformat": 4,
  "nbformat_minor": 1
}