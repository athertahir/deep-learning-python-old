{
  "cells": [
    {
      "cell_type": "code",
      "metadata": {},
      "source": [
        "# example of pixel normalization\n",
        "from numpy import asarray\n",
        "from PIL import Image\n",
        "# load image\n",
        "image = Image.open('sydney_bridge.jpg')\n",
        "pixels = asarray(image)\n",
        "# confirm pixel range is 0-255\n",
        "print('Data Type: %s' % pixels.dtype)\n",
        "print('Min: %.3f, Max: %.3f' % (pixels.min(), pixels.max()))\n",
        "# convert from integers to floats\n",
        "pixels = pixels.astype('float32')\n",
        "# normalize to the range 0-1\n",
        "pixels /= 255.0\n",
        "# confirm the normalization\n",
        "print('Min: %.3f, Max: %.3f' % (pixels.min(), pixels.max()))"
      ],
      "outputs": [],
      "execution_count": null
    }
  ],
  "metadata": {
    "anaconda-cloud": {},
    "kernelspec": {
      "display_name": "Python 3",
      "language": "python",
      "name": "python3"
    },
    "language_info": {
      "codemirror_mode": {
        "name": "ipython",
        "version": 3
      },
      "file_extension": ".py",
      "mimetype": "text/x-python",
      "name": "python",
      "nbconvert_exporter": "python",
      "pygments_lexer": "ipython3",
      "version": "3.6.1"
    }
  },
  "nbformat": 4,
  "nbformat_minor": 1
}