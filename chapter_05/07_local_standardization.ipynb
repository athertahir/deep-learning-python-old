{
  "cells": [
    {
      "cell_type": "markdown",
      "metadata": {},
      "source": [
        "## Local Standardization\n",
        "The example below calculates the mean and standard deviation of the loaded image per-channel,\n",
        "then uses these statistics to standardize the pixels separately in each channel."
      ]
    },
    {
      "cell_type": "markdown",
      "metadata": {},
      "source": [
        "Running the example first calculates and reports the means and standard deviation of\n",
        "the pixel values in each channel. The pixel values are then standardized and statistics are\n",
        "re-calculated, confirming the new zero-mean and unit standard deviation."
      ]
    },
    {
      "cell_type": "code",
      "metadata": {},
      "source": [
        "# example of per-channel pixel standardization\n",
        "from numpy import asarray\n",
        "from PIL import Image\n",
        "# load image\n",
        "image = Image.open('sydney_bridge.jpg')\n",
        "pixels = asarray(image)\n",
        "# convert from integers to floats\n",
        "pixels = pixels.astype('float32')\n",
        "# calculate per-channel means and standard deviations\n",
        "means = pixels.mean(axis=(0,1), dtype='float64')\n",
        "stds = pixels.std(axis=(0,1), dtype='float64')\n",
        "print('Means: %s, Stds: %s' % (means, stds))\n",
        "# per-channel standardization of pixels\n",
        "pixels = (pixels - means) / stds\n",
        "# confirm it had the desired effect\n",
        "means = pixels.mean(axis=(0,1), dtype='float64')\n",
        "stds = pixels.std(axis=(0,1), dtype='float64')\n",
        "print('Means: %s, Stds: %s' % (means, stds))"
      ],
      "outputs": [],
      "execution_count": null
    }
  ],
  "metadata": {
    "anaconda-cloud": {},
    "kernelspec": {
      "display_name": "Python 3",
      "language": "python",
      "name": "python3"
    },
    "language_info": {
      "codemirror_mode": {
        "name": "ipython",
        "version": 3
      },
      "file_extension": ".py",
      "mimetype": "text/x-python",
      "name": "python",
      "nbconvert_exporter": "python",
      "pygments_lexer": "ipython3",
      "version": "3.6.1"
    }
  },
  "nbformat": 4,
  "nbformat_minor": 1
}