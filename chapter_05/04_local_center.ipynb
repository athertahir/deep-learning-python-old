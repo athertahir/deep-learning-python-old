{
  "cells": [
    {
      "cell_type": "markdown",
      "metadata": {},
      "source": [
        "## Local Centering\n",
        "The example below calculates the mean for each color channel in the loaded image, then\n",
        "centers the pixel values for each channel separately. Note that NumPy allows us to specify\n",
        "the dimensions over which a statistic like the mean, min, and max are calculated via the axis\n",
        "argument. In this example, we set this to (0,1) for the width and height dimensions, which\n",
        "leaves the third dimension or channels. The result is one mean, min, or max for each of the\n",
        "three channel arrays.\n",
        "Also note that when we calculate the mean that we specify the dtype as \u00e2\u20ac\u02dcfloat64\u00e2\u20ac\u2122; this is\n",
        "required as it will cause all sub-operations of the mean, such as the sum, to be performed with\n",
        "64-bit precision. Without this, the sum will be performed at lower resolution and the resulting\n",
        "mean will be wrong given the accumulated errors in the loss of precision, in turn meaning the\n",
        "mean of the centered pixel values for each channel will not be zero (or a very small number\n",
        "close to zero)."
      ]
    },
    {
      "cell_type": "code",
      "metadata": {},
      "source": [
        "# example of per-channel centering (subtract mean)\n",
        "from numpy import asarray\n",
        "from PIL import Image\n",
        "# load image\n",
        "image = Image.open('sydney_bridge.jpg')\n",
        "pixels = asarray(image)\n",
        "# convert from integers to floats\n",
        "pixels = pixels.astype('float32')\n",
        "# calculate per-channel means and standard deviations\n",
        "means = pixels.mean(axis=(0,1), dtype='float64')\n",
        "print('Means: %s' % means)\n",
        "print('Mins: %s, Maxs: %s' % (pixels.min(axis=(0,1)), pixels.max(axis=(0,1))))\n",
        "# per-channel centering of pixels\n",
        "pixels -= means\n",
        "# confirm it had the desired effect\n",
        "means = pixels.mean(axis=(0,1), dtype='float64')\n",
        "print('Means: %s' % means)\n",
        "print('Mins: %s, Maxs: %s' % (pixels.min(axis=(0,1)), pixels.max(axis=(0,1))))"
      ],
      "outputs": [],
      "execution_count": null
    },
    {
      "cell_type": "markdown",
      "metadata": {},
      "source": [
        "Running the example first reports the mean pixels values for each channel, as well as the\n",
        "min and max values for each channel. The pixel values are centered, then the new means and\n",
        "min/max pixel values across each channel are reported. We can see that the new mean pixel\n",
        "values are very small numbers close to zero and the values are negative and positive values\n",
        "centered on zero."
      ]
    }
  ],
  "metadata": {
    "anaconda-cloud": {},
    "kernelspec": {
      "display_name": "Python 3",
      "language": "python",
      "name": "python3"
    },
    "language_info": {
      "codemirror_mode": {
        "name": "ipython",
        "version": 3
      },
      "file_extension": ".py",
      "mimetype": "text/x-python",
      "name": "python",
      "nbconvert_exporter": "python",
      "pygments_lexer": "ipython3",
      "version": "3.6.1"
    }
  },
  "nbformat": 4,
  "nbformat_minor": 1
}