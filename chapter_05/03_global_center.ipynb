{
  "cells": [
    {
      "cell_type": "markdown",
      "metadata": {},
      "source": [
        "## Center Pixel Values\n",
        "A popular data preparation technique for image data is to subtract the mean value from the\n",
        "pixel values. This approach is called centering, as the distribution of the pixel values is centered\n",
        "on the value of zero. Centering can be performed before or after normalization. Centering the\n",
        "pixels then normalizing will mean that the pixel values will be centered close to 0.5 and be in\n",
        "the range 0-1. Centering after normalization will mean that the pixels will have positive and\n",
        "negative values, in which case images will not display correctly (e.g. pixels are expected to have\n",
        "value in the range 0-255 or 0-1). Centering after normalization might be preferred, although it\n",
        "might be worth testing both approaches."
      ]
    },
    {
      "cell_type": "markdown",
      "metadata": {},
      "source": [
        "Centering requires that a mean pixel value be calculated prior to subtracting it from the\n",
        "pixel values. There are multiple ways that the mean can be calculated; for example:\n",
        "\n",
        "- Per image.\n",
        "- Per minibatch of images (under stochastic gradient descent).5.4. Center Pixel Values 49\n",
        "- Per training dataset.\n",
        "\n",
        "The mean can be calculated for all pixels in the image, referred to as a global centering, or\n",
        "it can be calculated for each channel in the case of color images, referred to as local centering.\n",
        "\n",
        "- Global Centering: Calculating and subtracting the mean pixel value across color\n",
        "channels.\n",
        "- Local Centering: Calculating and subtracting the mean pixel value per color channel.\n",
        "\n",
        "Per-image global centering is common because it is trivial to implement. Also common is\n",
        "per minibatch global or local centering for the same reason: it is fast and easy to implement.\n",
        "In some cases, per-channel means are pre-calculated across an entire training dataset. In this\n",
        "case, the image means must be stored and used both during training and any inference with\n",
        "the trained models in the future. For models trained on images centered using these means\n",
        "that may be used for transfer learning on new tasks, it can be beneficial or even required to\n",
        "normalize images for the new task using the same means. Let\u00e2\u20ac\u2122s look at a few examples."
      ]
    },
    {
      "cell_type": "markdown",
      "metadata": {},
      "source": [
        "## Global Centering\n",
        "The example below calculates a global mean across all three color channels in the loaded image,\n",
        "then centers the pixel values using the global mean."
      ]
    },
    {
      "cell_type": "code",
      "metadata": {},
      "source": [
        "# example of global centering (subtract mean)\n",
        "from numpy import asarray\n",
        "from PIL import Image\n",
        "# load image\n",
        "image = Image.open('sydney_bridge.jpg')\n",
        "pixels = asarray(image)\n",
        "# convert from integers to floats\n",
        "pixels = pixels.astype('float32')\n",
        "# calculate global mean\n",
        "mean = pixels.mean()\n",
        "print('Mean: %.3f' % mean)\n",
        "print('Min: %.3f, Max: %.3f' % (pixels.min(), pixels.max()))\n",
        "# global centering of pixels\n",
        "pixels = pixels - mean\n",
        "# confirm it had the desired effect\n",
        "mean = pixels.mean()\n",
        "print('Mean: %.3f' % mean)\n",
        "print('Min: %.3f, Max: %.3f' % (pixels.min(), pixels.max()))"
      ],
      "outputs": [],
      "execution_count": null
    },
    {
      "cell_type": "markdown",
      "metadata": {},
      "source": [
        "## Global Centering\n",
        "Running the example, we can see that the mean pixel value is about 152. Once centered,\n",
        "we can confirm that the new mean for the pixel values is 0.0 and that the new data range is\n",
        "negative and positive around this mean."
      ]
    }
  ],
  "metadata": {
    "anaconda-cloud": {},
    "kernelspec": {
      "display_name": "Python 3",
      "language": "python",
      "name": "python3"
    },
    "language_info": {
      "codemirror_mode": {
        "name": "ipython",
        "version": 3
      },
      "file_extension": ".py",
      "mimetype": "text/x-python",
      "name": "python",
      "nbconvert_exporter": "python",
      "pygments_lexer": "ipython3",
      "version": "3.6.1"
    }
  },
  "nbformat": 4,
  "nbformat_minor": 1
}