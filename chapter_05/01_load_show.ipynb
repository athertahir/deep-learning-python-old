{
  "cells": [
    {
      "cell_type": "markdown",
      "metadata": {},
      "source": [
        "## Sample Image\n",
        "We need a sample image for testing in this tutorial. We will use a photograph of the Sydney\n",
        "Harbor Bridge taken by Bernard Spragg. NZ 1 and released under a permissive license.\n",
        "\n",
        "The example below will load the image, display some properties about the loaded image,\n",
        "then show the image. This example and the rest of the tutorial assumes that you have the\n",
        "Pillow Python library installed"
      ]
    },
    {
      "cell_type": "markdown",
      "metadata": {},
      "source": [
        "Running the example reports the format of the image, which is JPEG, and the mode, which\n",
        "is RGB for the three color channels. Next, the size of the image is reported, showing 640 pixels\n",
        "in width and 374 pixels in height."
      ]
    },
    {
      "cell_type": "code",
      "metadata": {},
      "source": [
        "# load and show an image with Pillow\n",
        "from PIL import Image\n",
        "from IPython.display import display # to display images\n",
        "\n",
        "# load the image\n",
        "image = Image.open('sydney_bridge.jpg')\n",
        "# summarize some details about the image\n",
        "print(image.format)\n",
        "print(image.mode)\n",
        "print(image.size)\n",
        "# show the image\n",
        "# image.show()\n",
        "display(image)"
      ],
      "outputs": [],
      "execution_count": null
    }
  ],
  "metadata": {
    "anaconda-cloud": {},
    "kernelspec": {
      "display_name": "Python 3",
      "language": "python",
      "name": "python3"
    },
    "language_info": {
      "codemirror_mode": {
        "name": "ipython",
        "version": 3
      },
      "file_extension": ".py",
      "mimetype": "text/x-python",
      "name": "python",
      "nbconvert_exporter": "python",
      "pygments_lexer": "ipython3",
      "version": "3.6.1"
    }
  },
  "nbformat": 4,
  "nbformat_minor": 1
}