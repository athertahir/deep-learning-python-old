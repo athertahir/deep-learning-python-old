{
  "cells": [
    {
      "cell_type": "markdown",
      "metadata": {},
      "source": [
        "## Random Zoom Augmentation\n",
        "A zoom augmentation randomly zooms the image and either adds new pixel values around\n",
        "the image or interpolates pixel values respectively. Image zooming can be configured by the\n",
        "zoom range argument to the ImageDataGenerator constructor. You can specify the percentage\n",
        "of the zoom as a single float or a range as an array or tuple. If a float is specified, then the range\n",
        "for the zoom will be [1-value, 1+value]. For example, if you specify 0.3, then the range will be\n",
        "[0.7, 1.3], or between 70% (zoom in) and 130% (zoom out). The zoom amount is uniformly\n",
        "randomly sampled from the zoom region for each dimension (width, height) separately.\n",
        "\n",
        "The zoom may not feel intuitive. Note that zoom values less than 1.0 will zoom the image\n",
        "in, e.g. [0.5,0.5] makes the object in the image 50% larger or closer, and values larger than 1.0\n",
        "will zoom the image out by 50%, e.g. [1.5, 1.5] makes the object in the image smaller or further\n",
        "away. A zoom of [1.0,1.0] has no effect. The example below demonstrates zooming the image in,\n",
        "e.g. making the object in the photograph larger."
      ]
    },
    {
      "cell_type": "code",
      "metadata": {},
      "source": [
        "# example of zoom image augmentation\n",
        "from numpy import expand_dims\n",
        "from keras.preprocessing.image import load_img\n",
        "from keras.preprocessing.image import img_to_array\n",
        "from keras.preprocessing.image import ImageDataGenerator\n",
        "\n",
        "%matplotlib notebook\n",
        "from matplotlib import pyplot\n",
        "# load the image\n",
        "img = load_img('bird.jpg')\n",
        "# convert to numpy array\n",
        "data = img_to_array(img)\n",
        "# expand dimension to one sample\n",
        "samples = expand_dims(data, 0)\n",
        "# create image data augmentation generator\n",
        "datagen = ImageDataGenerator(zoom_range=[0.5,1.0])\n",
        "# prepare iterator\n",
        "it = datagen.flow(samples, batch_size=1)\n",
        "# generate samples and plot\n",
        "for i in range(9):\n",
        "\t# define subplot\n",
        "\tpyplot.subplot(330 + 1 + i)\n",
        "\t# generate batch of images\n",
        "\tbatch = it.next()\n",
        "\t# convert to unsigned integers for viewing\n",
        "\timage = batch[0].astype('uint8')\n",
        "\t# plot raw pixel data\n",
        "\tpyplot.imshow(image)\n",
        "# show the figure\n",
        "pyplot.show()"
      ],
      "outputs": [],
      "execution_count": null
    },
    {
      "cell_type": "markdown",
      "metadata": {},
      "source": [
        "Running the example generates examples of the zoomed image, showing a random zoom\n",
        "in that is different on both the width and height dimensions that also randomly changes the\n",
        "aspect ratio of the object in the image."
      ]
    }
  ],
  "metadata": {
    "anaconda-cloud": {},
    "kernelspec": {
      "display_name": "Python 3",
      "language": "python",
      "name": "python3"
    },
    "language_info": {
      "codemirror_mode": {
        "name": "ipython",
        "version": 3
      },
      "file_extension": ".py",
      "mimetype": "text/x-python",
      "name": "python",
      "nbconvert_exporter": "python",
      "pygments_lexer": "ipython3",
      "version": "3.6.1"
    }
  },
  "nbformat": 4,
  "nbformat_minor": 1
}