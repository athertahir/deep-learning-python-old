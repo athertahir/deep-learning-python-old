{
  "cells": [
    {
      "cell_type": "markdown",
      "metadata": {},
      "source": [
        "## Horizontal and Vertical Flip Augmentation\n",
        "An image flip means reversing the rows or columns of pixels in the case of a vertical or\n",
        "horizontal flip respectively. The flip augmentation is specified by a boolean horizontal flip\n",
        "or vertical flip argument to the ImageDataGenerator class constructor. For photographs\n",
        "like the bird photograph used in this tutorial, horizontal flips may make sense, but vertical flips\n",
        "would not. For other types of images, such as aerial photographs, cosmology photographs, and\n",
        "microscopic photographs, perhaps vertical flips make sense. The example below demonstrates\n",
        "augmenting the chosen photograph with horizontal flips via the horizontal flip argument."
      ]
    },
    {
      "cell_type": "markdown",
      "metadata": {},
      "source": [
        "Running the example creates a plot of nine augmented images. We can see that the horizontal\n",
        "flip is applied randomly to some images and not others"
      ]
    },
    {
      "cell_type": "code",
      "metadata": {},
      "source": [
        "# example of horizontal flip image augmentation\n",
        "from numpy import expand_dims\n",
        "from keras.preprocessing.image import load_img\n",
        "from keras.preprocessing.image import img_to_array\n",
        "from keras.preprocessing.image import ImageDataGenerator\n",
        "\n",
        "%matplotlib notebook\n",
        "from matplotlib import pyplot\n",
        "# load the image\n",
        "img = load_img('bird.jpg')\n",
        "# convert to numpy array\n",
        "data = img_to_array(img)\n",
        "# expand dimension to one sample\n",
        "samples = expand_dims(data, 0)\n",
        "# create image data augmentation generator\n",
        "datagen = ImageDataGenerator(horizontal_flip=True)\n",
        "# prepare iterator\n",
        "it = datagen.flow(samples, batch_size=1)\n",
        "# generate samples and plot\n",
        "for i in range(9):\n",
        "\t# define subplot\n",
        "\tpyplot.subplot(330 + 1 + i)\n",
        "\t# generate batch of images\n",
        "\tbatch = it.next()\n",
        "\t# convert to unsigned integers for viewing\n",
        "\timage = batch[0].astype('uint8')\n",
        "\t# plot raw pixel data\n",
        "\tpyplot.imshow(image)\n",
        "# show the figure\n",
        "pyplot.show()"
      ],
      "outputs": [],
      "execution_count": null
    }
  ],
  "metadata": {
    "anaconda-cloud": {},
    "kernelspec": {
      "display_name": "Python 3",
      "language": "python",
      "name": "python3"
    },
    "language_info": {
      "codemirror_mode": {
        "name": "ipython",
        "version": 3
      },
      "file_extension": ".py",
      "mimetype": "text/x-python",
      "name": "python",
      "nbconvert_exporter": "python",
      "pygments_lexer": "ipython3",
      "version": "3.6.1"
    }
  },
  "nbformat": 4,
  "nbformat_minor": 1
}