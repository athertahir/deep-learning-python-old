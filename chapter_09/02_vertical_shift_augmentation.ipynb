{
  "cells": [
    {
      "cell_type": "markdown",
      "metadata": {},
      "source": [
        "## Horizontal and Vertical Shift Augmentation\n",
        "A shift to an image means moving all pixels of the image in one direction, such as horizontally\n",
        "or vertically, while keeping the image dimensions the same. This means that some of the\n",
        "pixels will be clipped off the image and there will be a region of the image where new pixel\n",
        "values will have to be specified. The width shift range and height shift range arguments\n",
        "to the ImageDataGenerator constructor control the amount of horizontal and vertical shift\n",
        "respectively. These arguments can specify a floating point value that indicates the percentage\n",
        "(between 0 and 1) of the width or height of the image to shift. Alternately, a number of pixels\n",
        "can be specified to shift the image.\n",
        "\n",
        "Specifically, a value in the range between no shift and the percentage or number of pixels\n",
        "will be sampled for each image and the shift performed, e.g. [0, value]. Alternately, you\n",
        "can specify a tuple or array of the min and max range from which the shift will be shifted; for\n",
        "example: [-100, 100] or [-0.5, 0.5]. The example below demonstrates a horizontal shift with\n",
        "the width shift range argument between [-200,200] pixels and generates a plot of generated\n",
        "images to demonstrate the effect."
      ]
    },
    {
      "cell_type": "markdown",
      "metadata": {},
      "source": [
        "Below is the same example updated to perform vertical shifts of the image via the height shift range\n",
        "argument, in this case specifying the percentage of the image to shift as 0.5 the height of the\n",
        "image."
      ]
    },
    {
      "cell_type": "code",
      "metadata": {},
      "source": [
        "# example of vertical shift image augmentation\n",
        "from numpy import expand_dims\n",
        "from keras.preprocessing.image import load_img\n",
        "from keras.preprocessing.image import img_to_array\n",
        "from keras.preprocessing.image import ImageDataGenerator\n",
        "\n",
        "%matplotlib notebook\n",
        "from matplotlib import pyplot\n",
        "# load the image\n",
        "img = load_img('bird.jpg')\n",
        "# convert to numpy array\n",
        "data = img_to_array(img)\n",
        "# expand dimension to one sample\n",
        "samples = expand_dims(data, 0)\n",
        "# create image data augmentation generator\n",
        "datagen = ImageDataGenerator(height_shift_range=0.5)\n",
        "# prepare iterator\n",
        "it = datagen.flow(samples, batch_size=1)\n",
        "# generate samples and plot\n",
        "for i in range(9):\n",
        "\t# define subplot\n",
        "\tpyplot.subplot(330 + 1 + i)\n",
        "\t# generate batch of images\n",
        "\tbatch = it.next()\n",
        "\t# convert to unsigned integers for viewing\n",
        "\timage = batch[0].astype('uint8')\n",
        "\t# plot raw pixel data\n",
        "\tpyplot.imshow(image)\n",
        "# show the figure\n",
        "pyplot.show()"
      ],
      "outputs": [],
      "execution_count": null
    }
  ],
  "metadata": {
    "anaconda-cloud": {},
    "kernelspec": {
      "display_name": "Python 3",
      "language": "python",
      "name": "python3"
    },
    "language_info": {
      "codemirror_mode": {
        "name": "ipython",
        "version": 3
      },
      "file_extension": ".py",
      "mimetype": "text/x-python",
      "name": "python",
      "nbconvert_exporter": "python",
      "pygments_lexer": "ipython3",
      "version": "3.6.1"
    }
  },
  "nbformat": 4,
  "nbformat_minor": 1
}