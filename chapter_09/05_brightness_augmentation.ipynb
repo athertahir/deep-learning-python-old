{
  "cells": [
    {
      "cell_type": "markdown",
      "metadata": {},
      "source": [
        "## Random Brightness Augmentation\n",
        "The brightness of the image can be augmented by either randomly darkening images, brightening\n",
        "images, or both. The intent is to allow a model to generalize across images trained on different\n",
        "lighting levels. This can be achieved by specifying the brightness range argument to the\n",
        "ImageDataGenerator() constructor that specifies min and max range as a float representing a\n",
        "percentage for selecting a darkening or brightening amount. Values less than 1.0 darken the\n",
        "image, e.g. [0.5, 1.0], whereas values larger than 1.0 brighten the image, e.g. [1.0, 1.5], where 1.0\n",
        "has no effect on brightness. The example below demonstrates a brightness image augmentation,\n",
        "allowing the generator to randomly darken the image between 1.0 (no change) and 0.2 or 20%."
      ]
    },
    {
      "cell_type": "markdown",
      "metadata": {},
      "source": [
        "Running the example shows the augmented images with varying amounts of darkening\n",
        "applied."
      ]
    },
    {
      "cell_type": "code",
      "metadata": {},
      "source": [
        "# example of brighting image augmentation\n",
        "from numpy import expand_dims\n",
        "from keras.preprocessing.image import load_img\n",
        "from keras.preprocessing.image import img_to_array\n",
        "from keras.preprocessing.image import ImageDataGenerator\n",
        "\n",
        "%matplotlib notebook\n",
        "from matplotlib import pyplot\n",
        "# load the image\n",
        "img = load_img('bird.jpg')\n",
        "# convert to numpy array\n",
        "data = img_to_array(img)\n",
        "# expand dimension to one sample\n",
        "samples = expand_dims(data, 0)\n",
        "# create image data augmentation generator\n",
        "datagen = ImageDataGenerator(brightness_range=[0.2,1.0])\n",
        "# prepare iterator\n",
        "it = datagen.flow(samples, batch_size=1)\n",
        "# generate samples and plot\n",
        "for i in range(9):\n",
        "\t# define subplot\n",
        "\tpyplot.subplot(330 + 1 + i)\n",
        "\t# generate batch of images\n",
        "\tbatch = it.next()\n",
        "\t# convert to unsigned integers for viewing\n",
        "\timage = batch[0].astype('uint8')\n",
        "\t# plot raw pixel data\n",
        "\tpyplot.imshow(image)\n",
        "# show the figure\n",
        "pyplot.show()"
      ],
      "outputs": [],
      "execution_count": null
    }
  ],
  "metadata": {
    "anaconda-cloud": {},
    "kernelspec": {
      "display_name": "Python 3",
      "language": "python",
      "name": "python3"
    },
    "language_info": {
      "codemirror_mode": {
        "name": "ipython",
        "version": 3
      },
      "file_extension": ".py",
      "mimetype": "text/x-python",
      "name": "python",
      "nbconvert_exporter": "python",
      "pygments_lexer": "ipython3",
      "version": "3.6.1"
    }
  },
  "nbformat": 4,
  "nbformat_minor": 1
}