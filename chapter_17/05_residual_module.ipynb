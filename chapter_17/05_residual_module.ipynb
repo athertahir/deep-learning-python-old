{
  "cells": [
    {
      "cell_type": "markdown",
      "metadata": {},
      "source": [
        "## How to Implement the Residual Module\n",
        "The Residual Network, or ResNet, architecture for convolutional neural networks was proposed\n",
        "by Kaiming He, et al. in their 2016 paper titled Deep Residual Learning for Image Recognition,\n",
        "which achieved success on the 2015 version of the ILSVRC challenge (introduced in Chapter 15).\n",
        "A key innovation in the ResNet was the residual module. The residual module, specifically the\n",
        "identity residual model, is a block of two convolutional layers with the same number of filters\n",
        "and a small filter size where the output of the second layer is added with the input to the first\n",
        "convolutional layer. Drawn as a graph, the input to the module is added to the output of the\n",
        "module and is called a shortcut connection. We can implement this directly in Keras using the\n",
        "functional API and the add() merge function."
      ]
    },
    {
      "cell_type": "markdown",
      "metadata": {},
      "source": [
        "A limitation with this direct implementation is that if the number of filters in the input\n",
        "layer does not match the number of filters in the last convolutional layer of the module (defined\n",
        "by n filters), then we will get an error. One solution is to use a 1 x 1 convolution layer,\n",
        "often referred to as a projection layer, to either increase the number of filters for the input\n",
        "layer or reduce the number of filters for the last convolutional layer in the module. The former\n",
        "solution makes more sense, and is the approach proposed in the paper, referred to as a projection\n",
        "shortcut.\n",
        "\n",
        "Running the example first creates the model then prints a summary of the layers. Because\n",
        "the module is linear, this summary is helpful to see what is going on."
      ]
    },
    {
      "cell_type": "code",
      "metadata": {},
      "source": [
        "# example of a CNN model with an identity or projection residual module\n",
        "from keras.models import Model\n",
        "from keras.layers import Input\n",
        "from keras.layers import Activation\n",
        "from keras.layers import Conv2D\n",
        "from keras.layers import add\n",
        "from keras.utils import plot_model\n",
        "\n",
        "# function for creating an identity or projection residual module\n",
        "def residual_module(layer_in, n_filters):\n",
        "\tmerge_input = layer_in\n",
        "\t# check if the number of filters needs to be increase, assumes channels last format\n",
        "\tif layer_in.shape[-1] != n_filters:\n",
        "\t\tmerge_input = Conv2D(n_filters, (1,1), padding='same', activation='relu', kernel_initializer='he_normal')(layer_in)\n",
        "\t# conv1\n",
        "\tconv1 = Conv2D(n_filters, (3,3), padding='same', activation='relu', kernel_initializer='he_normal')(layer_in)\n",
        "\t# conv2\n",
        "\tconv2 = Conv2D(n_filters, (3,3), padding='same', activation='linear', kernel_initializer='he_normal')(conv1)\n",
        "\t# add filters, assumes filters/channels last\n",
        "\tlayer_out = add([conv2, merge_input])\n",
        "\t# activation function\n",
        "\tlayer_out = Activation('relu')(layer_out)\n",
        "\treturn layer_out\n",
        "\n",
        "# define model input\n",
        "visible = Input(shape=(256, 256, 3))\n",
        "# add vgg module\n",
        "layer = residual_module(visible, 64)\n",
        "# create model\n",
        "model = Model(inputs=visible, outputs=layer)\n",
        "# summarize model\n",
        "model.summary()\n",
        "# plot model architecture\n",
        "plot_model(model, show_shapes=True, to_file='/tmp/residual_module.png')"
      ],
      "outputs": [],
      "execution_count": null
    }
  ],
  "metadata": {
    "anaconda-cloud": {},
    "kernelspec": {
      "display_name": "Python 3",
      "language": "python",
      "name": "python3"
    },
    "language_info": {
      "codemirror_mode": {
        "name": "ipython",
        "version": 3
      },
      "file_extension": ".py",
      "mimetype": "text/x-python",
      "name": "python",
      "nbconvert_exporter": "python",
      "pygments_lexer": "ipython3",
      "version": "3.6.1"
    }
  },
  "nbformat": 4,
  "nbformat_minor": 1
}