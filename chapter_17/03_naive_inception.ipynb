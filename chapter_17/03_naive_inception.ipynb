{
  "cells": [
    {
      "cell_type": "code",
      "metadata": {},
      "source": [
        "# example of creating a CNN with an inception module\n",
        "from keras.models import Model\n",
        "from keras.layers import Input\n",
        "from keras.layers import Conv2D\n",
        "from keras.layers import MaxPooling2D\n",
        "from keras.layers.merge import concatenate\n",
        "from keras.utils import plot_model\n",
        "\n",
        "# function for creating a naive inception block\n",
        "def naive_inception_module(layer_in, f1, f2, f3):\n",
        "\t# 1x1 conv\n",
        "\tconv1 = Conv2D(f1, (1,1), padding='same', activation='relu')(layer_in)\n",
        "\t# 3x3 conv\n",
        "\tconv3 = Conv2D(f2, (3,3), padding='same', activation='relu')(layer_in)\n",
        "\t# 5x5 conv\n",
        "\tconv5 = Conv2D(f3, (5,5), padding='same', activation='relu')(layer_in)\n",
        "\t# 3x3 max pooling\n",
        "\tpool = MaxPooling2D((3,3), strides=(1,1), padding='same')(layer_in)\n",
        "\t# concatenate filters, assumes filters/channels last\n",
        "\tlayer_out = concatenate([conv1, conv3, conv5, pool], axis=-1)\n",
        "\treturn layer_out\n",
        "\n",
        "# define model input\n",
        "visible = Input(shape=(256, 256, 3))\n",
        "# add inception module\n",
        "layer = naive_inception_module(visible, 64, 128, 32)\n",
        "# create model\n",
        "model = Model(inputs=visible, outputs=layer)\n",
        "# summarize model\n",
        "model.summary()\n",
        "# plot model architecture\n",
        "plot_model(model, show_shapes=True, to_file='naive_inception_module.png')"
      ],
      "outputs": [],
      "execution_count": null
    }
  ],
  "metadata": {
    "anaconda-cloud": {},
    "kernelspec": {
      "display_name": "Python 3",
      "language": "python",
      "name": "python3"
    },
    "language_info": {
      "codemirror_mode": {
        "name": "ipython",
        "version": 3
      },
      "file_extension": ".py",
      "mimetype": "text/x-python",
      "name": "python",
      "nbconvert_exporter": "python",
      "pygments_lexer": "ipython3",
      "version": "3.6.1"
    }
  },
  "nbformat": 4,
  "nbformat_minor": 1
}