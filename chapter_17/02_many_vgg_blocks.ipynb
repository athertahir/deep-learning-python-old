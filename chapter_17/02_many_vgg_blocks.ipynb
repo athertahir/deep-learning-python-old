{
  "cells": [
    {
      "cell_type": "code",
      "metadata": {},
      "source": [
        "# Example of creating a CNN model with many VGG blocks\n",
        "from keras.models import Model\n",
        "from keras.layers import Input\n",
        "from keras.layers import Conv2D\n",
        "from keras.layers import MaxPooling2D\n",
        "from keras.utils import plot_model\n",
        "\n",
        "# function for creating a vgg block\n",
        "def vgg_block(layer_in, n_filters, n_conv):\n",
        "\t# add convolutional layers\n",
        "\tfor _ in range(n_conv):\n",
        "\t\tlayer_in = Conv2D(n_filters, (3,3), padding='same', activation='relu')(layer_in)\n",
        "\t# add max pooling layer\n",
        "\tlayer_in = MaxPooling2D((2,2), strides=(2,2))(layer_in)\n",
        "\treturn layer_in\n",
        "\n",
        "# define model input\n",
        "visible = Input(shape=(256, 256, 3))\n",
        "# add vgg module\n",
        "layer = vgg_block(visible, 64, 2)\n",
        "# add vgg module\n",
        "layer = vgg_block(layer, 128, 2)\n",
        "# add vgg module\n",
        "layer = vgg_block(layer, 256, 4)\n",
        "# create model\n",
        "model = Model(inputs=visible, outputs=layer)\n",
        "# summarize model\n",
        "model.summary()\n",
        "# plot model architecture\n",
        "plot_model(model, show_shapes=True, to_file='/tmp/multiple_vgg_blocks.png')"
      ],
      "outputs": [],
      "execution_count": null
    }
  ],
  "metadata": {
    "anaconda-cloud": {},
    "kernelspec": {
      "display_name": "Python 3",
      "language": "python",
      "name": "python3"
    },
    "language_info": {
      "codemirror_mode": {
        "name": "ipython",
        "version": 3
      },
      "file_extension": ".py",
      "mimetype": "text/x-python",
      "name": "python",
      "nbconvert_exporter": "python",
      "pygments_lexer": "ipython3",
      "version": "3.6.1"
    }
  },
  "nbformat": 4,
  "nbformat_minor": 1
}