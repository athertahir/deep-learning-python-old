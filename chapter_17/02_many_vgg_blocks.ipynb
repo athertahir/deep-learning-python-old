{
  "cells": [
    {
      "cell_type": "markdown",
      "metadata": {},
      "source": [
        "## How to implement VGG Blocks\n",
        "The VGG convolutional neural network architecture, named for the Visual Geometry Group at\n",
        "Oxford, was an important milestone in the use of deep learning methods for computer vision\n",
        "(introduced in Chapter 15). The architecture was described in the 2014 paper titled Very Deep\n",
        "Convolutional Networks for Large-Scale Image Recognition by Karen Simonyan and Andrew\n",
        "Zisserman and achieved top results in the LSVRC-2014 computer vision competition. The key\n",
        "innovation in this architecture was the definition and repetition of what we will refer to as\n",
        "VGG-blocks. These are groups of convolutional layers that use small filters (e.g. 3 x 3 pixels)\n",
        "followed by a max pooling layer.\n",
        "\n",
        "\n",
        "A convolutional neural network with VGG-blocks is a sensible starting point when developing\n",
        "a new model from scratch as it is easy to understand, easy to implement, and very effective at\n",
        "extracting features from images. We can generalize the specification of a VGG-block as one or\n",
        "more convolutional layers with the same number of filters and a filter size of 3 x 3, a stride of\n",
        "1 x 1, same padding so the output size is the same as the input size for each filter, and the use\n",
        "of a rectified linear activation function. These layers are then followed by a max pooling layer\n",
        "with a size of 2 x 2 and a stride of the same dimensions. We can define a function to create a\n",
        "VGG-block using the Keras functional API with a given number of convolutional layers and\n",
        "with a given number of filters per layer."
      ]
    },
    {
      "cell_type": "markdown",
      "metadata": {},
      "source": [
        "Using VGG blocks in your own models should be common because they are so simple and\n",
        "effective. We can expand the example and demonstrate a single model that has three VGG\n",
        "blocks, the first two blocks have two convolutional layers with 64 and 128 filters respectively,\n",
        "the third block has four convolutional layers with 256 filters. This is a common usage of VGG\n",
        "blocks where the number of filters is increased with the depth of the model. The complete code\n",
        "listing is provided below."
      ]
    },
    {
      "cell_type": "code",
      "metadata": {},
      "source": [
        "# Example of creating a CNN model with many VGG blocks\n",
        "from keras.models import Model\n",
        "from keras.layers import Input\n",
        "from keras.layers import Conv2D\n",
        "from keras.layers import MaxPooling2D\n",
        "from keras.utils import plot_model\n",
        "\n",
        "# function for creating a vgg block\n",
        "def vgg_block(layer_in, n_filters, n_conv):\n",
        "\t# add convolutional layers\n",
        "\tfor _ in range(n_conv):\n",
        "\t\tlayer_in = Conv2D(n_filters, (3,3), padding='same', activation='relu')(layer_in)\n",
        "\t# add max pooling layer\n",
        "\tlayer_in = MaxPooling2D((2,2), strides=(2,2))(layer_in)\n",
        "\treturn layer_in\n",
        "\n",
        "# define model input\n",
        "visible = Input(shape=(256, 256, 3))\n",
        "# add vgg module\n",
        "layer = vgg_block(visible, 64, 2)\n",
        "# add vgg module\n",
        "layer = vgg_block(layer, 128, 2)\n",
        "# add vgg module\n",
        "layer = vgg_block(layer, 256, 4)\n",
        "# create model\n",
        "model = Model(inputs=visible, outputs=layer)\n",
        "# summarize model\n",
        "model.summary()\n",
        "# plot model architecture\n",
        "plot_model(model, show_shapes=True, to_file='/tmp/multiple_vgg_blocks.png')"
      ],
      "outputs": [],
      "execution_count": null
    }
  ],
  "metadata": {
    "anaconda-cloud": {},
    "kernelspec": {
      "display_name": "Python 3",
      "language": "python",
      "name": "python3"
    },
    "language_info": {
      "codemirror_mode": {
        "name": "ipython",
        "version": 3
      },
      "file_extension": ".py",
      "mimetype": "text/x-python",
      "name": "python",
      "nbconvert_exporter": "python",
      "pygments_lexer": "ipython3",
      "version": "3.6.1"
    }
  },
  "nbformat": 4,
  "nbformat_minor": 1
}