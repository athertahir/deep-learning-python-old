{
  "cells": [
    {
      "cell_type": "code",
      "metadata": {},
      "source": [
        "# plot the first 9 images in the planet dataset\n",
        "\n",
        "%matplotlib notebook\n",
        "from matplotlib import pyplot\n",
        "from matplotlib.image import imread\n",
        "# define location of dataset\n",
        "folder = 'train-jpg/'\n",
        "# plot first few images\n",
        "for i in range(9):\n",
        "\t# define subplot\n",
        "\tpyplot.subplot(330 + 1 + i)\n",
        "\t# define filename\n",
        "\tfilename = folder + 'train_' + str(i) + '.jpg'\n",
        "\t# load image pixels\n",
        "\timage = imread(filename)\n",
        "\t# plot raw pixel data\n",
        "\tpyplot.imshow(image)\n",
        "# show the figure\n",
        "pyplot.show()"
      ],
      "outputs": [],
      "execution_count": null
    }
  ],
  "metadata": {
    "anaconda-cloud": {},
    "kernelspec": {
      "display_name": "Python 3",
      "language": "python",
      "name": "python3"
    },
    "language_info": {
      "codemirror_mode": {
        "name": "ipython",
        "version": 3
      },
      "file_extension": ".py",
      "mimetype": "text/x-python",
      "name": "python",
      "nbconvert_exporter": "python",
      "pygments_lexer": "ipython3",
      "version": "3.6.1"
    }
  },
  "nbformat": 4,
  "nbformat_minor": 1
}