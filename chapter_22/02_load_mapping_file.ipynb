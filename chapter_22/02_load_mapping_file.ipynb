{
  "cells": [
    {
      "cell_type": "code",
      "metadata": {},
      "source": [
        "# load and summarize the mapping file for the planet dataset\n",
        "from pandas import read_csv\n",
        "# load file as CSV\n",
        "filename = 'train_v2.csv'\n",
        "mapping_csv = read_csv(filename)\n",
        "# summarize properties\n",
        "print(mapping_csv.shape)\n",
        "print(mapping_csv[:10])"
      ],
      "outputs": [],
      "execution_count": null
    }
  ],
  "metadata": {
    "anaconda-cloud": {},
    "kernelspec": {
      "display_name": "Python 3",
      "language": "python",
      "name": "python3"
    },
    "language_info": {
      "codemirror_mode": {
        "name": "ipython",
        "version": 3
      },
      "file_extension": ".py",
      "mimetype": "text/x-python",
      "name": "python",
      "nbconvert_exporter": "python",
      "pygments_lexer": "ipython3",
      "version": "3.6.1"
    }
  },
  "nbformat": 4,
  "nbformat_minor": 1
}