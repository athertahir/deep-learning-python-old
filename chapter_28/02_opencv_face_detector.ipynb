{
  "cells": [
    {
      "cell_type": "code",
      "metadata": {},
      "source": [
        "# example of face detection with opencv cascade classifier\n",
        "from cv2 import imread\n",
        "from cv2 import CascadeClassifier\n",
        "# load the photograph\n",
        "pixels = imread('test1.jpg')\n",
        "# load the pre-trained model\n",
        "classifier = CascadeClassifier('haarcascade_frontalface_default.xml')\n",
        "# perform face detection\n",
        "bboxes = classifier.detectMultiScale(pixels)\n",
        "# print bounding box for each detected face\n",
        "for box in bboxes:\n",
        "\tprint(box)"
      ],
      "outputs": [],
      "execution_count": null
    }
  ],
  "metadata": {
    "anaconda-cloud": {},
    "kernelspec": {
      "display_name": "Python 3",
      "language": "python",
      "name": "python3"
    },
    "language_info": {
      "codemirror_mode": {
        "name": "ipython",
        "version": 3
      },
      "file_extension": ".py",
      "mimetype": "text/x-python",
      "name": "python",
      "nbconvert_exporter": "python",
      "pygments_lexer": "ipython3",
      "version": "3.6.1"
    }
  },
  "nbformat": 4,
  "nbformat_minor": 1
}