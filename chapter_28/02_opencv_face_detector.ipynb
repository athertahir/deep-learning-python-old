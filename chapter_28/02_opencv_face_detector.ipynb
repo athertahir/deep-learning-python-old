{
  "cells": [
    {
      "cell_type": "markdown",
      "metadata": {},
      "source": [
        "## OpenCV\n",
        "It is a modestly complex classifier that has also been tweaked and refined over the last\n",
        "nearly 20 years. A modern implementation of the Classifier Cascade face detection algorithm is\n",
        "provided in the OpenCV library. This is a C++ computer vision library that provides a Python\n",
        "interface. The benefit of this implementation is that it provides pre-trained face detection\n",
        "models, and provides an interface to train a model on your own dataset."
      ]
    },
    {
      "cell_type": "code",
      "metadata": {},
      "source": [
        "# example of face detection with opencv cascade classifier\n",
        "from cv2 import imread\n",
        "from cv2 import CascadeClassifier\n",
        "# load the photograph\n",
        "pixels = imread('test1.jpg')\n"
      ],
      "outputs": [],
      "execution_count": null
    },
    {
      "cell_type": "markdown",
      "metadata": {},
      "source": [
        "OpenCV provides the CascadeClassifier class that can be used to create a cascade\n",
        "classifier for face detection. The constructor can take a filename as an argument that specifies\n",
        "the XML file for a pre-trained model. OpenCV provides a number of pre-trained models as\n",
        "part of the installation. These are available on your system and are also available on the\n",
        "OpenCV GitHub project. We can load the model as follows:\n",
        "\n",
        "classifier = CascadeClassifier('haarcascade_frontalface_default.xml')\n",
        "\n",
        "Once loaded, the model can be used to perform face detection on a photograph by calling\n",
        "the detectMultiScale() function. This function will return a list of bounding boxes for all\n",
        "faces detected in the photograph."
      ]
    },
    {
      "cell_type": "code",
      "metadata": {},
      "source": [
        "# load the pre-trained model\n",
        "classifier = CascadeClassifier('haarcascade_frontalface_default.xml')\n",
        "# perform face detection\n",
        "bboxes = classifier.detectMultiScale(pixels)\n",
        "# print bounding box for each detected face\n",
        "for box in bboxes:\n",
        "\tprint(box)\n"
      ],
      "outputs": [],
      "execution_count": null
    },
    {
      "cell_type": "markdown",
      "metadata": {},
      "source": [
        "The example of performing face detection on the college students photograph with\n",
        "a pre-trained cascade classifier in OpenCV is listed above.\n",
        "\n",
        "Running the example first loads the photograph, then loads and configures the cascade\n",
        "classifier; faces are detected and each bounding box is printed. Each box lists the x and y\n",
        "coordinates for the bottom-left-hand-corner of the bounding box, as well as the width and the\n",
        "height. The results suggest that two bounding boxes were detected."
      ]
    }
  ],
  "metadata": {
    "anaconda-cloud": {},
    "kernelspec": {
      "display_name": "Python 3",
      "language": "python",
      "name": "python3"
    },
    "language_info": {
      "codemirror_mode": {
        "name": "ipython",
        "version": 3
      },
      "file_extension": ".py",
      "mimetype": "text/x-python",
      "name": "python",
      "nbconvert_exporter": "python",
      "pygments_lexer": "ipython3",
      "version": "3.6.1"
    }
  },
  "nbformat": 4,
  "nbformat_minor": 1
}