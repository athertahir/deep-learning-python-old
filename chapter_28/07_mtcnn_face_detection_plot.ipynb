{
  "cells": [
    {
      "cell_type": "markdown",
      "metadata": {},
      "source": [
        "## Face Detection With Deep Learning\n",
        "A number of deep learning methods have been developed and demonstrated for face detection.\n",
        "Perhaps one of the more popular approaches is called the Multi-Task Cascaded Convolutional\n",
        "Neural Network, or MTCNN for short, described by Kaipeng Zhang, et al. in the 2016 paper\n",
        "titled Joint Face Detection and Alignment Using Multitask Cascaded Convolutional Networks.\n",
        "The MTCNN is popular because it achieved then state-of-the-art results on a range of benchmark\n",
        "datasets, and because it is capable of also recognizing other facial features such as eyes and\n",
        "mouth, called landmark detection.\n",
        "The network uses a cascade structure with three networks; first the image is rescaled to a\n",
        "range of different sizes (called an image pyramid), then the first model (Proposal Network or\n",
        "P-Net) proposes candidate facial regions, the second model (Refine Network or R-Net) filters the\n",
        "bounding boxes, and the third model (Output Network or O-Net) proposes facial landmarks."
      ]
    },
    {
      "cell_type": "markdown",
      "metadata": {},
      "source": [
        "Below is a function named draw_image_with_boxes() that shows the photograph and then\n",
        "draws a box for each bounding box detected.\n",
        "\n",
        "Running the example plots the photograph then draws a bounding box for each of the\n",
        "detected faces. We can see that both faces were detected correctly"
      ]
    },
    {
      "cell_type": "code",
      "metadata": {},
      "source": [
        "# face detection with mtcnn on a photograph\n",
        "%matplotlib notebook\n",
        "from matplotlib import pyplot\n",
        "from matplotlib.patches import Rectangle\n",
        "from mtcnn.mtcnn import MTCNN\n",
        "\n",
        "# draw an image with detected objects\n",
        "def draw_image_with_boxes(filename, result_list):\n",
        "\t# load the image\n",
        "\tdata = pyplot.imread(filename)\n",
        "\t# plot the image\n",
        "\tpyplot.imshow(data)\n",
        "\t# get the context for drawing boxes\n",
        "\tax = pyplot.gca()\n",
        "\t# plot each box\n",
        "\tfor result in result_list:\n",
        "\t\t# get coordinates\n",
        "\t\tx, y, width, height = result['box']\n",
        "\t\t# create the shape\n",
        "\t\trect = Rectangle((x, y), width, height, fill=False, color='red')\n",
        "\t\t# draw the box\n",
        "\t\tax.add_patch(rect)\n",
        "\t# show the plot\n",
        "\tpyplot.show()\n",
        "\n",
        "filename = 'test1.jpg'\n",
        "# load image from file\n",
        "pixels = pyplot.imread(filename)\n",
        "# create the detector, using default weights\n",
        "detector = MTCNN()\n",
        "# detect faces in the image\n",
        "faces = detector.detect_faces(pixels)\n",
        "# display faces on the original image\n",
        "draw_image_with_boxes(filename, faces)"
      ],
      "outputs": [],
      "execution_count": null
    }
  ],
  "metadata": {
    "anaconda-cloud": {},
    "kernelspec": {
      "display_name": "Python 3",
      "language": "python",
      "name": "python3"
    },
    "language_info": {
      "codemirror_mode": {
        "name": "ipython",
        "version": 3
      },
      "file_extension": ".py",
      "mimetype": "text/x-python",
      "name": "python",
      "nbconvert_exporter": "python",
      "pygments_lexer": "ipython3",
      "version": "3.6.1"
    }
  },
  "nbformat": 4,
  "nbformat_minor": 1
}