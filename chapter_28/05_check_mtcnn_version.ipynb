{
  "cells": [
    {
      "cell_type": "markdown",
      "metadata": {},
      "source": [
        "## Face Detection With Deep Learning\n",
        "A number of deep learning methods have been developed and demonstrated for face detection.\n",
        "Perhaps one of the more popular approaches is called the Multi-Task Cascaded Convolutional\n",
        "Neural Network, or MTCNN for short, described by Kaipeng Zhang, et al. in the 2016 paper\n",
        "titled Joint Face Detection and Alignment Using Multitask Cascaded Convolutional Networks.\n",
        "The MTCNN is popular because it achieved then state-of-the-art results on a range of benchmark\n",
        "datasets, and because it is capable of also recognizing other facial features such as eyes and\n",
        "mouth, called landmark detection.\n",
        "The network uses a cascade structure with three networks; first the image is rescaled to a\n",
        "range of different sizes (called an image pyramid), then the first model (Proposal Network or\n",
        "P-Net) proposes candidate facial regions, the second model (Refine Network or R-Net) filters the\n",
        "bounding boxes, and the third model (Output Network or O-Net) proposes facial landmarks."
      ]
    },
    {
      "cell_type": "markdown",
      "metadata": {},
      "source": [
        "The MTCNN project, which we will refer to as ipazc/MTCNN to differentiate it from the\n",
        "name of the network, provides an implementation of the MTCNN architecture using TensorFlow\n",
        "and OpenCV. There are two main benefits to this project; first, it provides a top-performing\n",
        "pre-trained model and the second is that it can be installed as a library ready for use in your\n",
        "own code. The library can be installed via pip; for example:\n",
        "\n",
        "sudo pip install mtcnn"
      ]
    },
    {
      "cell_type": "code",
      "metadata": {},
      "source": [
        "# confirm mtcnn was installed correctly\n",
        "import mtcnn\n",
        "# print version\n",
        "print(mtcnn.__version__)\n"
      ],
      "outputs": [],
      "execution_count": null
    },
    {
      "cell_type": "markdown",
      "metadata": {},
      "source": [
        "Running the example will load the library, confirming it was installed correctly; and print\n",
        "the version."
      ]
    }
  ],
  "metadata": {
    "anaconda-cloud": {},
    "kernelspec": {
      "display_name": "Python 3",
      "language": "python",
      "name": "python3"
    },
    "language_info": {
      "codemirror_mode": {
        "name": "ipython",
        "version": 3
      },
      "file_extension": ".py",
      "mimetype": "text/x-python",
      "name": "python",
      "nbconvert_exporter": "python",
      "pygments_lexer": "ipython3",
      "version": "3.6.1"
    }
  },
  "nbformat": 4,
  "nbformat_minor": 1
}