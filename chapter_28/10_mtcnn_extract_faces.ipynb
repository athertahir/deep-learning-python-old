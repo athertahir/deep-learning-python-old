{
  "cells": [
    {
      "cell_type": "markdown",
      "metadata": {},
      "source": [
        "## Face Detection With Deep Learning\n",
        "A number of deep learning methods have been developed and demonstrated for face detection.\n",
        "Perhaps one of the more popular approaches is called the Multi-Task Cascaded Convolutional\n",
        "Neural Network, or MTCNN for short, described by Kaipeng Zhang, et al. in the 2016 paper\n",
        "titled Joint Face Detection and Alignment Using Multitask Cascaded Convolutional Networks.\n",
        "The MTCNN is popular because it achieved then state-of-the-art results on a range of benchmark\n",
        "datasets, and because it is capable of also recognizing other facial features such as eyes and\n",
        "mouth, called landmark detection.\n",
        "The network uses a cascade structure with three networks; first the image is rescaled to a\n",
        "range of different sizes (called an image pyramid), then the first model (Proposal Network or\n",
        "P-Net) proposes candidate facial regions, the second model (Refine Network or R-Net) filters the\n",
        "bounding boxes, and the third model (Output Network or O-Net) proposes facial landmarks."
      ]
    },
    {
      "cell_type": "markdown",
      "metadata": {},
      "source": [
        "We can now try face detection on the swim team photograph, e.g. the image test2.jpg.\n",
        "Running the example, we can see that all thirteen faces were correctly detected and that it\n",
        "looks roughly like all of the facial keypoints are also correct.\n",
        "\n",
        "Running the example creates a plot that shows each separate face detected in the photograph\n",
        "of the swim team."
      ]
    },
    {
      "cell_type": "code",
      "metadata": {},
      "source": [
        "# extract and plot each detected face in a photograph\n",
        "%matplotlib notebook\n",
        "from matplotlib import pyplot\n",
        "from mtcnn.mtcnn import MTCNN\n",
        "\n",
        "# draw each face separately\n",
        "def draw_faces(filename, result_list):\n",
        "\t# load the image\n",
        "\tdata = pyplot.imread(filename)\n",
        "\t# plot each face as a subplot\n",
        "\tfor i in range(len(result_list)):\n",
        "\t\t# get coordinates\n",
        "\t\tx1, y1, width, height = result_list[i]['box']\n",
        "\t\tx2, y2 = x1 + width, y1 + height\n",
        "\t\t# define subplot\n",
        "\t\tpyplot.subplot(1, len(result_list), i+1)\n",
        "\t\tpyplot.axis('off')\n",
        "\t\t# plot face\n",
        "\t\tpyplot.imshow(data[y1:y2, x1:x2])\n",
        "\t# show the plot\n",
        "\tpyplot.show()\n",
        "\n",
        "filename = 'test2.jpg'\n",
        "# load image from file\n",
        "pixels = pyplot.imread(filename)\n",
        "# create the detector, using default weights\n",
        "detector = MTCNN()\n",
        "# detect faces in the image\n",
        "faces = detector.detect_faces(pixels)\n",
        "# display faces on the original image\n",
        "draw_faces(filename, faces)"
      ],
      "outputs": [],
      "execution_count": null
    }
  ],
  "metadata": {
    "anaconda-cloud": {},
    "kernelspec": {
      "display_name": "Python 3",
      "language": "python",
      "name": "python3"
    },
    "language_info": {
      "codemirror_mode": {
        "name": "ipython",
        "version": 3
      },
      "file_extension": ".py",
      "mimetype": "text/x-python",
      "name": "python",
      "nbconvert_exporter": "python",
      "pygments_lexer": "ipython3",
      "version": "3.6.1"
    }
  },
  "nbformat": 4,
  "nbformat_minor": 1
}