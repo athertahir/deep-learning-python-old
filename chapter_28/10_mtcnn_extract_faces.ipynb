{
  "cells": [
    {
      "cell_type": "code",
      "metadata": {},
      "source": [
        "# extract and plot each detected face in a photograph\n",
        "\n",
        "%matplotlib notebook\n",
        "from matplotlib import pyplot\n",
        "from mtcnn.mtcnn import MTCNN\n",
        "\n",
        "# draw each face separately\n",
        "def draw_faces(filename, result_list):\n",
        "\t# load the image\n",
        "\tdata = pyplot.imread(filename)\n",
        "\t# plot each face as a subplot\n",
        "\tfor i in range(len(result_list)):\n",
        "\t\t# get coordinates\n",
        "\t\tx1, y1, width, height = result_list[i]['box']\n",
        "\t\tx2, y2 = x1 + width, y1 + height\n",
        "\t\t# define subplot\n",
        "\t\tpyplot.subplot(1, len(result_list), i+1)\n",
        "\t\tpyplot.axis('off')\n",
        "\t\t# plot face\n",
        "\t\tpyplot.imshow(data[y1:y2, x1:x2])\n",
        "\t# show the plot\n",
        "\tpyplot.show()\n",
        "\n",
        "filename = 'test2.jpg'\n",
        "# load image from file\n",
        "pixels = pyplot.imread(filename)\n",
        "# create the detector, using default weights\n",
        "detector = MTCNN()\n",
        "# detect faces in the image\n",
        "faces = detector.detect_faces(pixels)\n",
        "# display faces on the original image\n",
        "draw_faces(filename, faces)"
      ],
      "outputs": [],
      "execution_count": null
    }
  ],
  "metadata": {
    "anaconda-cloud": {},
    "kernelspec": {
      "display_name": "Python 3",
      "language": "python",
      "name": "python3"
    },
    "language_info": {
      "codemirror_mode": {
        "name": "ipython",
        "version": 3
      },
      "file_extension": ".py",
      "mimetype": "text/x-python",
      "name": "python",
      "nbconvert_exporter": "python",
      "pygments_lexer": "ipython3",
      "version": "3.6.1"
    }
  },
  "nbformat": 4,
  "nbformat_minor": 1
}