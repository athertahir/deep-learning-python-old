{
  "cells": [
    {
      "cell_type": "markdown",
      "metadata": {},
      "source": [
        "## Face Detection With Deep Learning\n",
        "A number of deep learning methods have been developed and demonstrated for face detection.\n",
        "Perhaps one of the more popular approaches is called the Multi-Task Cascaded Convolutional\n",
        "Neural Network, or MTCNN for short, described by Kaipeng Zhang, et al. in the 2016 paper\n",
        "titled Joint Face Detection and Alignment Using Multitask Cascaded Convolutional Networks.\n",
        "The MTCNN is popular because it achieved then state-of-the-art results on a range of benchmark\n",
        "datasets, and because it is capable of also recognizing other facial features such as eyes and\n",
        "mouth, called landmark detection.\n",
        "The network uses a cascade structure with three networks; first the image is rescaled to a\n",
        "range of different sizes (called an image pyramid), then the first model (Proposal Network or\n",
        "P-Net) proposes candidate facial regions, the second model (Refine Network or R-Net) filters the\n",
        "bounding boxes, and the third model (Output Network or O-Net) proposes facial landmarks."
      ]
    },
    {
      "cell_type": "markdown",
      "metadata": {},
      "source": [
        "We can use mtcnn for face detection. An instance of the network can be created by calling the MTCNN() constructor. By\n",
        "default, the library will use the pre-trained model, although you can specify your own model\n",
        "via the weights file argument and specify a path or URL, for example:\n",
        "\n",
        "model = MTCNN(weights_file='filename.npy')\n",
        "\n",
        "\n",
        "The minimum box size for detecting a face can be specified via the min face size argument,\n",
        "which defaults to 20 pixels. The constructor also provides a scale factor argument to specify\n",
        "the scale factor for the input image, which defaults to 0.709. Once the model is configured and\n",
        "loaded, it can be used directly to detect faces in photographs by calling the detect faces()\n",
        "function. This returns a list of dict objects, each providing a number of keys for the details of\n",
        "each face detected, including:\n",
        "\n",
        "- 'box': Providing the x, y of the bottom left of the bounding box, as well as the width\n",
        "and height of the box.\n",
        "- 'confidence': The probability confidence of the prediction.\n",
        "- 'keypoints': Providing a dict with dots for the 'left eye', 'right eye', 'nose',\n",
        "'mouth left', and 'mouth right'.\n",
        "\n",
        "\n",
        "For example, we can perform face detection on the college students photograph as follows:"
      ]
    },
    {
      "cell_type": "code",
      "metadata": {},
      "source": [
        "# face detection with mtcnn on a photograph\n",
        "%matplotlib notebook\n",
        "from matplotlib import pyplot\n",
        "from mtcnn.mtcnn import MTCNN\n",
        "# load image from file\n",
        "filename = 'test1.jpg'\n",
        "pixels = pyplot.imread(filename)\n",
        "# create the detector, using default weights\n",
        "detector = MTCNN()\n",
        "# detect faces in the image\n",
        "faces = detector.detect_faces(pixels)\n",
        "for face in faces:\n",
        "\tprint(face)\n"
      ],
      "outputs": [],
      "execution_count": null
    },
    {
      "cell_type": "markdown",
      "metadata": {},
      "source": [
        "Running the example loads the photograph, loads the model, performs face detection, and\n",
        "prints a list of each face detected."
      ]
    }
  ],
  "metadata": {
    "anaconda-cloud": {},
    "kernelspec": {
      "display_name": "Python 3",
      "language": "python",
      "name": "python3"
    },
    "language_info": {
      "codemirror_mode": {
        "name": "ipython",
        "version": 3
      },
      "file_extension": ".py",
      "mimetype": "text/x-python",
      "name": "python",
      "nbconvert_exporter": "python",
      "pygments_lexer": "ipython3",
      "version": "3.6.1"
    }
  },
  "nbformat": 4,
  "nbformat_minor": 1
}