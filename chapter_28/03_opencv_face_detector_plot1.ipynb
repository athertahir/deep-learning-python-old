{
  "cells": [
    {
      "cell_type": "code",
      "metadata": {},
      "source": [
        "# plot photo with detected faces using opencv cascade classifier\n",
        "from cv2 import imread\n",
        "from cv2 import imshow\n",
        "from cv2 import waitKey\n",
        "from cv2 import destroyAllWindows\n",
        "from cv2 import CascadeClassifier\n",
        "from cv2 import rectangle\n",
        "# load the photograph\n",
        "pixels = imread('test1.jpg')\n",
        "# load the pre-trained model\n",
        "classifier = CascadeClassifier('haarcascade_frontalface_default.xml')\n",
        "# perform face detection\n",
        "bboxes = classifier.detectMultiScale(pixels)\n",
        "# print bounding box for each detected face\n",
        "for box in bboxes:\n",
        "\t# extract\n",
        "\tx, y, width, height = box\n",
        "\tx2, y2 = x + width, y + height\n",
        "\t# draw a rectangle over the pixels\n",
        "\trectangle(pixels, (x, y), (x2, y2), (0,0,255), 1)\n",
        "# show the image\n",
        "imshow('face detection', pixels)\n",
        "# keep the window open until we press a key\n",
        "waitKey(0)\n",
        "# close the window\n",
        "destroyAllWindows()"
      ],
      "outputs": [],
      "execution_count": null
    }
  ],
  "metadata": {
    "anaconda-cloud": {},
    "kernelspec": {
      "display_name": "Python 3",
      "language": "python",
      "name": "python3"
    },
    "language_info": {
      "codemirror_mode": {
        "name": "ipython",
        "version": 3
      },
      "file_extension": ".py",
      "mimetype": "text/x-python",
      "name": "python",
      "nbconvert_exporter": "python",
      "pygments_lexer": "ipython3",
      "version": "3.6.1"
    }
  },
  "nbformat": 4,
  "nbformat_minor": 1
}