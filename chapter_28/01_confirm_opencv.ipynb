{
  "cells": [
    {
      "cell_type": "markdown",
      "metadata": {},
      "source": [
        "## OpenCV\n",
        "It is a modestly complex classifier that has also been tweaked and refined over the last\n",
        "nearly 20 years. A modern implementation of the Classifier Cascade face detection algorithm is\n",
        "provided in the OpenCV library. This is a C++ computer vision library that provides a Python\n",
        "interface. The benefit of this implementation is that it provides pre-trained face detection\n",
        "models, and provides an interface to train a model on your own dataset. OpenCV can be\n",
        "installed by the package manager system on your platform, or via pip; for example:\n",
        "\n",
        "sudo pip install opencv-python"
      ]
    },
    {
      "cell_type": "markdown",
      "metadata": {},
      "source": [
        "Once the installation process is complete, it is important to confirm that the library was\n",
        "installed correctly. This can be achieved by importing the library and checking the version\n",
        "number; for example:"
      ]
    },
    {
      "cell_type": "code",
      "metadata": {},
      "source": [
        "# check opencv version\n",
        "import cv2\n",
        "# print version number\n",
        "print(cv2.__version__)"
      ],
      "outputs": [],
      "execution_count": null
    }
  ],
  "metadata": {
    "anaconda-cloud": {},
    "kernelspec": {
      "display_name": "Python 3",
      "language": "python",
      "name": "python3"
    },
    "language_info": {
      "codemirror_mode": {
        "name": "ipython",
        "version": 3
      },
      "file_extension": ".py",
      "mimetype": "text/x-python",
      "name": "python",
      "nbconvert_exporter": "python",
      "pygments_lexer": "ipython3",
      "version": "3.6.1"
    }
  },
  "nbformat": 4,
  "nbformat_minor": 1
}