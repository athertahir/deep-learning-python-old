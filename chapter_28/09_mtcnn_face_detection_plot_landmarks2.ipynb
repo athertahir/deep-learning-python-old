{
  "cells": [
    {
      "cell_type": "code",
      "metadata": {},
      "source": [
        "# face detection with mtcnn on a photograph\n",
        "\n",
        "%matplotlib notebook\n",
        "from matplotlib import pyplot\n",
        "from matplotlib.patches import Rectangle\n",
        "from matplotlib.patches import Circle\n",
        "from mtcnn.mtcnn import MTCNN\n",
        "\n",
        "# draw an image with detected objects\n",
        "def draw_image_with_boxes(filename, result_list):\n",
        "\t# load the image\n",
        "\tdata = pyplot.imread(filename)\n",
        "\t# plot the image\n",
        "\tpyplot.imshow(data)\n",
        "\t# get the context for drawing boxes\n",
        "\tax = pyplot.gca()\n",
        "\t# plot each box\n",
        "\tfor result in result_list:\n",
        "\t\t# get coordinates\n",
        "\t\tx, y, width, height = result['box']\n",
        "\t\t# create the shape\n",
        "\t\trect = Rectangle((x, y), width, height, fill=False, color='red')\n",
        "\t\t# draw the box\n",
        "\t\tax.add_patch(rect)\n",
        "\t\t# draw the dots\n",
        "\t\tfor _, value in result['keypoints'].items():\n",
        "\t\t\t# create and draw dot\n",
        "\t\t\tdot = Circle(value, radius=2, color='red')\n",
        "\t\t\tax.add_patch(dot)\n",
        "\t# show the plot\n",
        "\tpyplot.show()\n",
        "\n",
        "filename = 'test2.jpg'\n",
        "# load image from file\n",
        "pixels = pyplot.imread(filename)\n",
        "# create the detector, using default weights\n",
        "detector = MTCNN()\n",
        "# detect faces in the image\n",
        "faces = detector.detect_faces(pixels)\n",
        "# display faces on the original image\n",
        "draw_image_with_boxes(filename, faces)"
      ],
      "outputs": [],
      "execution_count": null
    }
  ],
  "metadata": {
    "anaconda-cloud": {},
    "kernelspec": {
      "display_name": "Python 3",
      "language": "python",
      "name": "python3"
    },
    "language_info": {
      "codemirror_mode": {
        "name": "ipython",
        "version": 3
      },
      "file_extension": ".py",
      "mimetype": "text/x-python",
      "name": "python",
      "nbconvert_exporter": "python",
      "pygments_lexer": "ipython3",
      "version": "3.6.1"
    }
  },
  "nbformat": 4,
  "nbformat_minor": 1
}