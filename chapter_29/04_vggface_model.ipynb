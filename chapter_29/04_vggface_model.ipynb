{
  "cells": [
    {
      "cell_type": "code",
      "metadata": {},
      "source": [
        "# example of creating a face embedding\n",
        "from keras_vggface.vggface import VGGFace\n",
        "# create a vggface2 model\n",
        "model = VGGFace(model='resnet50')\n",
        "# summarize input and output shape\n",
        "print('Inputs: %s' % model.inputs)\n",
        "print('Outputs: %s' % model.outputs)"
      ],
      "outputs": [],
      "execution_count": null
    }
  ],
  "metadata": {
    "anaconda-cloud": {},
    "kernelspec": {
      "display_name": "Python 3",
      "language": "python",
      "name": "python3"
    },
    "language_info": {
      "codemirror_mode": {
        "name": "ipython",
        "version": 3
      },
      "file_extension": ".py",
      "mimetype": "text/x-python",
      "name": "python",
      "nbconvert_exporter": "python",
      "pygments_lexer": "ipython3",
      "version": "3.6.1"
    }
  },
  "nbformat": 4,
  "nbformat_minor": 1
}