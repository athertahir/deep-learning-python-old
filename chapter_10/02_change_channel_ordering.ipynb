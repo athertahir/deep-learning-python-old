{
  "cells": [
    {
      "cell_type": "markdown",
      "metadata": {},
      "source": [
        "## How to Change Image Channel Ordering\n",
        "After a color image is loaded as a three-dimensional array, the channel ordering can be changed.\n",
        "This can be achieved using the moveaxis() NumPy function. It allows you to specify the\n",
        "index of the source axis and the destination axis. This function can be used to change an\n",
        "array in channel last format such, as [rows][cols][channels] to channels first format, such\n",
        "as [channels][rows][cols], or the reverse. The example below loads the Penguin Parade\n",
        "photograph in channel last format and uses the moveaxis() function change it to channels first\n",
        "format."
      ]
    },
    {
      "cell_type": "markdown",
      "metadata": {},
      "source": [
        "Running the example first loads the photograph using the Pillow library and converts it to\n",
        "a NumPy array confirming that the image was loaded in channels last format with the shape\n",
        "(424, 640, 3). The moveaxis() function is then used to move the channels axis from position\n",
        "2 to position 0 and the result is confirmed showing channels first format (3, 424, 640). This\n",
        "is then reversed, moving the channels in position 0 to position 2 again."
      ]
    },
    {
      "cell_type": "code",
      "metadata": {},
      "source": [
        "# change image from channels last to channels first format\n",
        "from numpy import moveaxis\n",
        "from numpy import asarray\n",
        "from PIL import Image\n",
        "# load the color image\n",
        "img = Image.open('penguin_parade.jpg')\n",
        "# convert to numpy array\n",
        "data = asarray(img)\n",
        "print(data.shape)\n",
        "# change channels last to channels first format\n",
        "data = moveaxis(data, 2, 0)\n",
        "print(data.shape)\n",
        "# change channels first to channels last format\n",
        "data = moveaxis(data, 0, 2)\n",
        "print(data.shape)\n"
      ],
      "outputs": [],
      "execution_count": null
    }
  ],
  "metadata": {
    "anaconda-cloud": {},
    "kernelspec": {
      "display_name": "Python 3",
      "language": "python",
      "name": "python3"
    },
    "language_info": {
      "codemirror_mode": {
        "name": "ipython",
        "version": 3
      },
      "file_extension": ".py",
      "mimetype": "text/x-python",
      "name": "python",
      "nbconvert_exporter": "python",
      "pygments_lexer": "ipython3",
      "version": "3.6.1"
    }
  },
  "nbformat": 4,
  "nbformat_minor": 1
}