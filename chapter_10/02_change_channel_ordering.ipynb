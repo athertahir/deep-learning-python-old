{
  "cells": [
    {
      "cell_type": "code",
      "metadata": {},
      "source": [
        "# change image from channels last to channels first format\n",
        "from numpy import moveaxis\n",
        "from numpy import asarray\n",
        "from PIL import Image\n",
        "# load the color image\n",
        "img = Image.open('penguin_parade.jpg')\n",
        "# convert to numpy array\n",
        "data = asarray(img)\n",
        "print(data.shape)\n",
        "# change channels last to channels first format\n",
        "data = moveaxis(data, 2, 0)\n",
        "print(data.shape)\n",
        "# change channels first to channels last format\n",
        "data = moveaxis(data, 0, 2)\n",
        "print(data.shape)"
      ],
      "outputs": [],
      "execution_count": null
    }
  ],
  "metadata": {
    "anaconda-cloud": {},
    "kernelspec": {
      "display_name": "Python 3",
      "language": "python",
      "name": "python3"
    },
    "language_info": {
      "codemirror_mode": {
        "name": "ipython",
        "version": 3
      },
      "file_extension": ".py",
      "mimetype": "text/x-python",
      "name": "python",
      "nbconvert_exporter": "python",
      "pygments_lexer": "ipython3",
      "version": "3.6.1"
    }
  },
  "nbformat": 4,
  "nbformat_minor": 1
}