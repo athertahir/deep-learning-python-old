{
  "cells": [
    {
      "cell_type": "markdown",
      "metadata": {},
      "source": [
        "## Force Channel Ordering\n",
        "Finally, the channel ordering can be forced for a specific program. This can be achieved by\n",
        "calling the set_image_data_format function on the Keras backend to either\n",
        "for channel-first ordering, or channel-last ordering. This can be useful\n",
        "if you want a program or model to operate consistently regardless of Keras default channel\n",
        "ordering configuration"
      ]
    },
    {
      "cell_type": "markdown",
      "metadata": {},
      "source": [
        "Running the example first forces channels-first ordering, then channels-last ordering, confirming each configuration by printing the channel ordering mode after the change."
      ]
    },
    {
      "cell_type": "code",
      "metadata": {},
      "source": [
        "# force a channel ordering\n",
        "from keras import backend\n",
        "# force channels-first ordering\n",
        "backend.set_image_data_format('channels_first')\n",
        "print(backend.image_data_format())\n",
        "# force channels-last ordering\n",
        "backend.set_image_data_format('channels_last')\n",
        "print(backend.image_data_format())"
      ],
      "outputs": [],
      "execution_count": null
    }
  ],
  "metadata": {
    "anaconda-cloud": {},
    "kernelspec": {
      "display_name": "Python 3",
      "language": "python",
      "name": "python3"
    },
    "language_info": {
      "codemirror_mode": {
        "name": "ipython",
        "version": 3
      },
      "file_extension": ".py",
      "mimetype": "text/x-python",
      "name": "python",
      "nbconvert_exporter": "python",
      "pygments_lexer": "ipython3",
      "version": "3.6.1"
    }
  },
  "nbformat": 4,
  "nbformat_minor": 1
}