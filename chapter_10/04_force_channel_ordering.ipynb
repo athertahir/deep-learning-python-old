{
  "cells": [
    {
      "cell_type": "code",
      "metadata": {},
      "source": [
        "# force a channel ordering\n",
        "from keras import backend\n",
        "# force channels-first ordering\n",
        "backend.set_image_dim_ordering('th')\n",
        "print(backend.image_data_format())\n",
        "# force channels-last ordering\n",
        "backend.set_image_dim_ordering('tf')\n",
        "print(backend.image_data_format())"
      ],
      "outputs": [],
      "execution_count": null
    }
  ],
  "metadata": {
    "anaconda-cloud": {},
    "kernelspec": {
      "display_name": "Python 3",
      "language": "python",
      "name": "python3"
    },
    "language_info": {
      "codemirror_mode": {
        "name": "ipython",
        "version": 3
      },
      "file_extension": ".py",
      "mimetype": "text/x-python",
      "name": "python",
      "nbconvert_exporter": "python",
      "pygments_lexer": "ipython3",
      "version": "3.6.1"
    }
  },
  "nbformat": 4,
  "nbformat_minor": 1
}