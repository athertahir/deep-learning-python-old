{
  "cells": [
    {
      "cell_type": "markdown",
      "metadata": {},
      "source": [
        "## Force Channel Ordering\n",
        "Finally, the channel ordering can be forced for a specific program. This can be achieved by\n",
        "calling the set image dim ordering() function on the Keras backend to either \u00e2\u20ac\u02dcth\u00e2\u20ac\u2122 (Theano)\n",
        "for channel-first ordering, or \u00e2\u20ac\u02dctf\u00e2\u20ac\u2122 (TensorFlow) for channel-last ordering. This can be useful\n",
        "if you want a program or model to operate consistently regardless of Keras default channel\n",
        "ordering configuration"
      ]
    },
    {
      "cell_type": "markdown",
      "metadata": {},
      "source": [
        "Running the example first forces channels-first ordering, then channels-last ordering, confirming each configuration by printing the channel ordering mode after the change."
      ]
    },
    {
      "cell_type": "code",
      "metadata": {},
      "source": [
        "# force a channel ordering\n",
        "from keras import backend\n",
        "# force channels-first ordering\n",
        "backend.set_image_dim_ordering('th')\n",
        "print(backend.image_data_format())\n",
        "# force channels-last ordering\n",
        "backend.set_image_dim_ordering('tf')\n",
        "print(backend.image_data_format())"
      ],
      "outputs": [],
      "execution_count": null
    }
  ],
  "metadata": {
    "anaconda-cloud": {},
    "kernelspec": {
      "display_name": "Python 3",
      "language": "python",
      "name": "python3"
    },
    "language_info": {
      "codemirror_mode": {
        "name": "ipython",
        "version": 3
      },
      "file_extension": ".py",
      "mimetype": "text/x-python",
      "name": "python",
      "nbconvert_exporter": "python",
      "pygments_lexer": "ipython3",
      "version": "3.6.1"
    }
  },
  "nbformat": 4,
  "nbformat_minor": 1
}