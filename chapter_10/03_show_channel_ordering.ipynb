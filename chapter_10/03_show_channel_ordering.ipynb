{
  "cells": [
    {
      "cell_type": "markdown",
      "metadata": {},
      "source": [
        "## Keras Channel Ordering\n",
        "The Keras deep learning library is agnostic to how you wish to represent images in either channel\n",
        "first or last format, but the preference must be specified and adhered to when using the library.\n",
        "Keras wraps a number of mathematical libraries, and each has a preferred channel ordering.\n",
        "The three main libraries that Keras may wrap and their preferred channel ordering are listed\n",
        "below:\n",
        "- TensorFlow: Channels last order.\n",
        "- Theano: Channels first order.\n",
        "- CNTK: Channels last order.\n",
        "\n",
        "By default, Keras is configured to use TensorFlow and the channel ordering is also by default\n",
        "channels last. You can use either channel ordering with any library and the Keras library. Some\n",
        "libraries claim that the preferred channel ordering can result in a large difference in performance.\n",
        "For example, use of the MXNet mathematical library as the backend for Keras recommends\n",
        "using the channels first ordering for better performance."
      ]
    },
    {
      "cell_type": "markdown",
      "metadata": {},
      "source": [
        "Running the example prints your preferred channel ordering as configured in your Keras\n",
        "configuration file. In this case, the channels last format is used."
      ]
    },
    {
      "cell_type": "code",
      "metadata": {},
      "source": [
        "# show preferred channel order\n",
        "from keras import backend\n",
        "print(backend.image_data_format())"
      ],
      "outputs": [],
      "execution_count": null
    }
  ],
  "metadata": {
    "anaconda-cloud": {},
    "kernelspec": {
      "display_name": "Python 3",
      "language": "python",
      "name": "python3"
    },
    "language_info": {
      "codemirror_mode": {
        "name": "ipython",
        "version": 3
      },
      "file_extension": ".py",
      "mimetype": "text/x-python",
      "name": "python",
      "nbconvert_exporter": "python",
      "pygments_lexer": "ipython3",
      "version": "3.6.1"
    }
  },
  "nbformat": 4,
  "nbformat_minor": 1
}