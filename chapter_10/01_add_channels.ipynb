{
  "cells": [
    {
      "cell_type": "code",
      "metadata": {},
      "source": [
        "# example of expanding dimensions\n",
        "from numpy import expand_dims\n",
        "from numpy import asarray\n",
        "from PIL import Image\n",
        "# load the image\n",
        "img = Image.open('penguin_parade.jpg')\n",
        "# convert the image to grayscale\n",
        "img = img.convert(mode='L')\n",
        "# convert to numpy array\n",
        "data = asarray(img)\n",
        "print(data.shape)\n",
        "# add channels first\n",
        "data_first = expand_dims(data, axis=0)\n",
        "print(data_first.shape)\n",
        "# add channels last\n",
        "data_last = expand_dims(data, axis=2)\n",
        "print(data_last.shape)"
      ],
      "outputs": [],
      "execution_count": null
    }
  ],
  "metadata": {
    "anaconda-cloud": {},
    "kernelspec": {
      "display_name": "Python 3",
      "language": "python",
      "name": "python3"
    },
    "language_info": {
      "codemirror_mode": {
        "name": "ipython",
        "version": 3
      },
      "file_extension": ".py",
      "mimetype": "text/x-python",
      "name": "python",
      "nbconvert_exporter": "python",
      "pygments_lexer": "ipython3",
      "version": "3.6.1"
    }
  },
  "nbformat": 4,
  "nbformat_minor": 1
}