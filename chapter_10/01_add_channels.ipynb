{
  "cells": [
    {
      "cell_type": "markdown",
      "metadata": {},
      "source": [
        "## How to Add a Channel to a Grayscale Image\n",
        "Grayscale images are loaded as a two-dimensional array. Before they can be used for modeling,\n",
        "you may have to add an explicit channel dimension to the image. This does not add new\n",
        "data; instead, it changes the array data structure to have an additional third axis with one\n",
        "dimension to hold the grayscale pixel values. For example, a grayscale image with the dimensions [rows][cols] can be changed to [rows][cols][channels] or [channels][rows][cols]\n",
        "where the new [channels] axis has one dimension.\n",
        "This can be achieved using the expand dims() NumPy function. The axis argument allows\n",
        "you to specify whether the new dimension will be added to the first, e.g. first for channels\n",
        "first or last for channels last. The example below loads the Penguin Parade photograph as a\n",
        "grayscale image using the Pillow library and demonstrates how to add a channel dimension."
      ]
    },
    {
      "cell_type": "markdown",
      "metadata": {},
      "source": [
        "Running the example first loads the photograph using the Pillow library, then converts it to\n",
        "a grayscale image. The image object is converted to a NumPy array and we confirm the shape\n",
        "of the array is two dimensional, specifically (424, 640).\n",
        "\n",
        "The expand dims() function is then used to add a channel via axis=0 to the front of the\n",
        "array and the change is confirmed with the shape (1, 424, 640). The same function is then\n",
        "used to add a channel to the end or third dimension of the array with axis=2 and the change is\n",
        "confirmed with the shape (424, 640, 1)."
      ]
    },
    {
      "cell_type": "code",
      "metadata": {},
      "source": [
        "# example of expanding dimensions\n",
        "from numpy import expand_dims\n",
        "from numpy import asarray\n",
        "from PIL import Image\n",
        "# load the image\n",
        "img = Image.open('penguin_parade.jpg')\n",
        "# convert the image to grayscale\n",
        "img = img.convert(mode='L')\n",
        "# convert to numpy array\n",
        "data = asarray(img)\n",
        "print(data.shape)\n",
        "# add channels first\n",
        "data_first = expand_dims(data, axis=0)\n",
        "print(data_first.shape)\n",
        "# add channels last\n",
        "data_last = expand_dims(data, axis=2)\n",
        "print(data_last.shape)"
      ],
      "outputs": [],
      "execution_count": null
    }
  ],
  "metadata": {
    "anaconda-cloud": {},
    "kernelspec": {
      "display_name": "Python 3",
      "language": "python",
      "name": "python3"
    },
    "language_info": {
      "codemirror_mode": {
        "name": "ipython",
        "version": 3
      },
      "file_extension": ".py",
      "mimetype": "text/x-python",
      "name": "python",
      "nbconvert_exporter": "python",
      "pygments_lexer": "ipython3",
      "version": "3.6.1"
    }
  },
  "nbformat": 4,
  "nbformat_minor": 1
}