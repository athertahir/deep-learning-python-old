{
  "cells": [
    {
      "cell_type": "markdown",
      "metadata": {},
      "source": [
        "## Example of Projecting Feature Maps\n",
        "A 1 X 1 filter can be used to create a projection of the feature maps. The number of feature\n",
        "maps created will be the same number and the effect may be a refinement of the features already\n",
        "extracted. This is often called channel-wise pooling, as opposed to traditional feature-wise\n",
        "pooling on each channel. It can be implemented as follows:\n",
        "\n",
        "model.add(Conv2D(512, (1,1), activation='relu'))\n",
        "\n",
        "We can see that we use the same number of features and still follow the application of the\n",
        "filter with a rectified linear activation function. The complete example is listed below."
      ]
    },
    {
      "cell_type": "code",
      "metadata": {},
      "source": [
        "# example of a 1x1 filter for projection\n",
        "from keras.models import Sequential\n",
        "from keras.layers import Conv2D\n",
        "# create model\n",
        "model = Sequential()\n",
        "model.add(Conv2D(512, (3,3), padding='same', activation='relu', input_shape=(256, 256, 3)))\n",
        "model.add(Conv2D(512, (1,1), activation='relu'))\n",
        "# summarize model\n",
        "model.summary()"
      ],
      "outputs": [],
      "execution_count": null
    },
    {
      "cell_type": "markdown",
      "metadata": {},
      "source": [
        "Running the example creates the model and summarizes the architecture. We can see that\n",
        "no change is made to the width or height of the feature maps, and by design, the number\n",
        "of feature maps is kept constant with a simple projection operation applied (e.g. a possible\n",
        "simplification of the feature maps)"
      ]
    }
  ],
  "metadata": {
    "anaconda-cloud": {},
    "kernelspec": {
      "display_name": "Python 3",
      "language": "python",
      "name": "python3"
    },
    "language_info": {
      "codemirror_mode": {
        "name": "ipython",
        "version": 3
      },
      "file_extension": ".py",
      "mimetype": "text/x-python",
      "name": "python",
      "nbconvert_exporter": "python",
      "pygments_lexer": "ipython3",
      "version": "3.6.1"
    }
  },
  "nbformat": 4,
  "nbformat_minor": 1
}