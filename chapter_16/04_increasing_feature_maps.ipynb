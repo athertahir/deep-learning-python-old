{
  "cells": [
    {
      "cell_type": "markdown",
      "metadata": {},
      "source": [
        "## Example of Increasing Feature Maps\n",
        "The 1X 1 filter can be used to increase the number of feature maps. This is a common operation\n",
        "used after a pooling layer prior to applying another convolutional layer. The projection effect of\n",
        "the filter can be applied as many times as needed to the input, allowing the number of feature\n",
        "maps to be scaled up and yet have a composition that captures the salient features of the\n",
        "original. We can increase the number of feature maps from 512 input from the first hidden layer\n",
        "to double the size at 1,024 feature maps.\n",
        "\n",
        "model.add(Conv2D(1024, (1,1), activation='relu'))\n",
        "\n",
        "The complete example is listed below"
      ]
    },
    {
      "cell_type": "code",
      "metadata": {},
      "source": [
        "# example of a 1x1 filter to increase dimensionality\n",
        "from keras.models import Sequential\n",
        "from keras.layers import Conv2D\n",
        "# create model\n",
        "model = Sequential()\n",
        "model.add(Conv2D(512, (3,3), padding='same', activation='relu', input_shape=(256, 256, 3)))\n",
        "model.add(Conv2D(1024, (1,1), activation='relu'))\n",
        "# summarize model\n",
        "model.summary()"
      ],
      "outputs": [],
      "execution_count": null
    },
    {
      "cell_type": "markdown",
      "metadata": {},
      "source": [
        "Running the example creates the model and summarizes its structure. We can see that the\n",
        "width and height of the feature maps are unchanged and that the number of feature maps was\n",
        "increased from 512 to double the size at 1,024."
      ]
    }
  ],
  "metadata": {
    "anaconda-cloud": {},
    "kernelspec": {
      "display_name": "Python 3",
      "language": "python",
      "name": "python3"
    },
    "language_info": {
      "codemirror_mode": {
        "name": "ipython",
        "version": 3
      },
      "file_extension": ".py",
      "mimetype": "text/x-python",
      "name": "python",
      "nbconvert_exporter": "python",
      "pygments_lexer": "ipython3",
      "version": "3.6.1"
    }
  },
  "nbformat": 4,
  "nbformat_minor": 1
}