{
  "cells": [
    {
      "cell_type": "markdown",
      "metadata": {},
      "source": [
        "## Examples of How to Use 1x1 Convolutions\n",
        "We can make the use of a 1 X 1 filter concrete with some examples. Consider that we have\n",
        "a convolutional neural network that expected color images input with the square shape of\n",
        "256 X 256 X 3 pixels. These images then pass through a first hidden layer with 512 filters, each\n",
        "with the size of 3 X 3 with the same padding, followed by a ReLU activation function. The\n",
        "example below demonstrates this simple model"
      ]
    },
    {
      "cell_type": "markdown",
      "metadata": {},
      "source": [
        "Running the example creates the model and summarizes the model architecture. There\n",
        "are no surprises; the output of the first hidden layer is a block of feature maps with the\n",
        "three-dimensional shape of 256 X 256 X 512."
      ]
    },
    {
      "cell_type": "code",
      "metadata": {},
      "source": [
        "# example of simple cnn model\n",
        "from keras.models import Sequential\n",
        "from keras.layers import Conv2D\n",
        "# create model\n",
        "model = Sequential()\n",
        "model.add(Conv2D(512, (3,3), padding='same', activation='relu', input_shape=(256, 256, 3)))\n",
        "# summarize model\n",
        "model.summary()"
      ],
      "outputs": [],
      "execution_count": null
    }
  ],
  "metadata": {
    "anaconda-cloud": {},
    "kernelspec": {
      "display_name": "Python 3",
      "language": "python",
      "name": "python3"
    },
    "language_info": {
      "codemirror_mode": {
        "name": "ipython",
        "version": 3
      },
      "file_extension": ".py",
      "mimetype": "text/x-python",
      "name": "python",
      "nbconvert_exporter": "python",
      "pygments_lexer": "ipython3",
      "version": "3.6.1"
    }
  },
  "nbformat": 4,
  "nbformat_minor": 1
}