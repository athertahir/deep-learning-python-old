{
  "cells": [
    {
      "cell_type": "markdown",
      "metadata": {},
      "source": [
        "## Example of Decreasing Feature Maps\n",
        "The 1 X 1 filter can be used to decrease the number of feature maps. This is the most common\n",
        "application of this type of filter and in this way, the layer is often called a feature map pooling\n",
        "layer. In this example, we can decrease the depth (or channels) from 512 to 64. This might be\n",
        "useful if the subsequent layer we were going to add to our model would be another convolutional\n",
        "layer with 7 X 7 filters. These filters would only be applied at a depth of 64 rather than 512.\n",
        "\n",
        "model.add(Conv2D(64, (1,1), activation='relu'))\n",
        "\n",
        "\n",
        "The composition of the 64 feature maps is not the same as the original 512, but contains a\n",
        "useful summary of dimensionality reduction that captures the salient features, such that the 7X7\n",
        "operation may have a similar effect on the 64 feature maps as it might have on the original 512.\n",
        "Further, a 7 X 7 convolutional layer with 64 filters itself applied to the 512 feature maps output\n",
        "by the first hidden layer would result in approximately one million parameters (activations). If\n",
        "the 1 X 1 filter is used to reduce the number of feature maps to 64 first, then the number of\n",
        "parameters required for the 7 X 7 layer is only approximately 200,000, an enormous difference.\n",
        "The complete example of using a 1 X 1 filter for dimensionality reduction is listed below."
      ]
    },
    {
      "cell_type": "code",
      "metadata": {},
      "source": [
        "# example of a 1x1 filter for dimensionality reduction\n",
        "from keras.models import Sequential\n",
        "from keras.layers import Conv2D\n",
        "# create model\n",
        "model = Sequential()\n",
        "model.add(Conv2D(512, (3,3), padding='same', activation='relu', input_shape=(256, 256, 3)))\n",
        "model.add(Conv2D(64, (1,1), activation='relu'))\n",
        "# summarize model\n",
        "model.summary()"
      ],
      "outputs": [],
      "execution_count": null
    },
    {
      "cell_type": "markdown",
      "metadata": {},
      "source": [
        "Running the example creates the model and summarizes its structure. We can see that\n",
        "the width and height of the feature maps are unchanged, yet the number of feature maps was\n",
        "reduced from 512 to 64."
      ]
    }
  ],
  "metadata": {
    "anaconda-cloud": {},
    "kernelspec": {
      "display_name": "Python 3",
      "language": "python",
      "name": "python3"
    },
    "language_info": {
      "codemirror_mode": {
        "name": "ipython",
        "version": 3
      },
      "file_extension": ".py",
      "mimetype": "text/x-python",
      "name": "python",
      "nbconvert_exporter": "python",
      "pygments_lexer": "ipython3",
      "version": "3.6.1"
    }
  },
  "nbformat": 4,
  "nbformat_minor": 1
}