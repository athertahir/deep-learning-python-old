{
  "cells": [
    {
      "cell_type": "markdown",
      "metadata": {},
      "source": [
        "## Problem of Border Effects\n",
        "In the previous section, we defined a single filter with the size of three pixels high and three\n",
        "pixels wide (rows, columns). We saw that the application of the 3 X 3 filter, referred to as the\n",
        "kernel size in Keras, to the 8 X 8 input image resulted in a feature map with the size of 6 X 6.\n",
        "That is, the input image with 64 pixels was reduced to a feature map with 36 pixels. Where did\n",
        "the other 28 pixels go?\n",
        "\n",
        "The filter is applied systematically to the input image. It starts at the top left corner of the\n",
        "image and is moved from left to right one pixel column at a time until the edge of the filter\n",
        "reaches the edge of the image. For a 3 X 3 pixel filter applied to a 8 X 8 input image, we can\n",
        "see that it can only be applied six times, resulting in the width of six in the output feature map."
      ]
    },
    {
      "cell_type": "markdown",
      "metadata": {},
      "source": [
        "The reduction in the size of the input to the feature map is referred to as border effects.\n",
        "It is caused by the interaction of the filter with the border of the image. This is often not a\n",
        "problem for large images and small filters but can be a problem with small images. It can also\n",
        "become a problem once a number of convolutional layers are stacked. For example, below is the\n",
        "same model updated to have two stacked convolutional layers. This means that a 3 X 3 filter is\n",
        "applied to the 8 X 8 input image to result in a 6 X 6 feature map as in the previous section. A\n",
        "3 X 3 filter is then applied to the 6 X 6 feature map"
      ]
    },
    {
      "cell_type": "code",
      "metadata": {},
      "source": [
        "# example of stacked convolutional layers\n",
        "from keras.models import Sequential\n",
        "from keras.layers import Conv2D\n",
        "# create model\n",
        "model = Sequential()\n",
        "model.add(Conv2D(1, (3,3), input_shape=(8, 8, 1)))\n",
        "model.add(Conv2D(1, (3,3)))\n",
        "# summarize model\n",
        "model.summary()\n"
      ],
      "outputs": [],
      "execution_count": null
    },
    {
      "cell_type": "markdown",
      "metadata": {},
      "source": [
        "Running the example summarizes the shape of the output from each layer. We can see that\n",
        "the application of filters to the feature map output of the first layer, in turn, results in a 4 X 4\n",
        "feature map. This can become a problem as we develop very deep convolutional neural network\n",
        "models with tens or hundreds of layers. We will simply run out of data in our feature maps\n",
        "upon which to operate."
      ]
    }
  ],
  "metadata": {
    "anaconda-cloud": {},
    "kernelspec": {
      "display_name": "Python 3",
      "language": "python",
      "name": "python3"
    },
    "language_info": {
      "codemirror_mode": {
        "name": "ipython",
        "version": 3
      },
      "file_extension": ".py",
      "mimetype": "text/x-python",
      "name": "python",
      "nbconvert_exporter": "python",
      "pygments_lexer": "ipython3",
      "version": "3.6.1"
    }
  },
  "nbformat": 4,
  "nbformat_minor": 1
}