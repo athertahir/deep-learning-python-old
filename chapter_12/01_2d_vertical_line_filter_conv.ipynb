{
  "cells": [
    {
      "cell_type": "markdown",
      "metadata": {},
      "source": [
        "## Convolutional Layer\n",
        "In a convolutional neural network, a convolutional layer is responsible for the systematic\n",
        "application of one or more filters to an input. The multiplication of the filter to the input\n",
        "image results in a single output. The input is typically three-dimensional images (e.g. rows,\n",
        "columns and channels), and in turn, the filters are also three-dimensional with the same number\n",
        "of channels and fewer rows and columns than the input image. As such, the filter is repeatedly\n",
        "applied to each part of the input image, resulting in a two-dimensional output map of activations,\n",
        "called a feature map. Keras provides an implementation of the convolutional layer called a\n",
        "Conv2D layer.\n",
        "\n",
        "\n",
        "It requires that you specify the expected shape of the input images in terms of rows (height),\n",
        "columns (width), and channels (depth) or [rows, columns, channels]. The filter contains\n",
        "the weights that must be learned during the training of the layer. The filter weights represent\n",
        "the structure or feature that the filter will detect and the strength of the activation indicates\n",
        "the degree to which the feature was detected. The layer requires that both the number of filters\n",
        "be specified and that the shape of the filters be specified. We can demonstrate this with a small\n",
        "example (intentionally based on the example from Chapter 11). In this example, we define a\n",
        "single input image or sample that has one channel and is an eight pixel by eight pixel square\n",
        "with all 0 values and a two-pixel wide vertical line in the center."
      ]
    },
    {
      "cell_type": "markdown",
      "metadata": {},
      "source": [
        "The filter is initialized with random weights as part of the initialization of the model. We\n",
        "will overwrite the random weights and hard code our own 3 X 3 filter that will detect vertical\n",
        "lines. That is, the filter will strongly activate when it detects a vertical line and weakly activate\n",
        "when it does not. We expect that by applying this filter across the input image, the output\n",
        "feature map will show that the vertical line was detected"
      ]
    },
    {
      "cell_type": "code",
      "metadata": {},
      "source": [
        "# example of using a single convolutional layer\n",
        "from numpy import asarray\n",
        "from keras.models import Sequential\n",
        "from keras.layers import Conv2D\n",
        "# define input data\n",
        "data = [[0, 0, 0, 1, 1, 0, 0, 0],\n",
        "\t\t[0, 0, 0, 1, 1, 0, 0, 0],\n",
        "\t\t[0, 0, 0, 1, 1, 0, 0, 0],\n",
        "\t\t[0, 0, 0, 1, 1, 0, 0, 0],\n",
        "\t\t[0, 0, 0, 1, 1, 0, 0, 0],\n",
        "\t\t[0, 0, 0, 1, 1, 0, 0, 0],\n",
        "\t\t[0, 0, 0, 1, 1, 0, 0, 0],\n",
        "\t\t[0, 0, 0, 1, 1, 0, 0, 0]]\n",
        "data = asarray(data)\n",
        "data = data.reshape(1, 8, 8, 1)"
      ],
      "outputs": [],
      "execution_count": null
    },
    {
      "cell_type": "markdown",
      "metadata": {},
      "source": [
        "Next, we can define a model that expects input samples to have the shape (8, 8, 1) and\n",
        "has a single hidden convolutional layer with a single filter with the shape of three pixels by\n",
        "three pixels."
      ]
    },
    {
      "cell_type": "code",
      "metadata": {},
      "source": [
        "# create model\n",
        "model = Sequential()\n",
        "model.add(Conv2D(1, (3,3), input_shape=(8, 8, 1)))\n",
        "# summarize model\n",
        "model.summary()\n",
        "\n",
        "\n"
      ],
      "outputs": [],
      "execution_count": null
    },
    {
      "cell_type": "markdown",
      "metadata": {},
      "source": [
        "The filter is initialized with random weights as part of the initialization of the model. We\n",
        "will overwrite the random weights and hard code our own 3 X 3 filter that will detect vertical\n",
        "lines. That is, the filter will strongly activate when it detects a vertical line and weakly activate\n",
        "when it does not. We expect that by applying this filter across the input image, the output\n",
        "feature map will show that the vertical line was detected"
      ]
    },
    {
      "cell_type": "code",
      "metadata": {},
      "source": [
        "# define a vertical line detector\n",
        "detector = [[[[0]],[[1]],[[0]]],\n",
        "            [[[0]],[[1]],[[0]]],\n",
        "            [[[0]],[[1]],[[0]]]]\n",
        "weights = [asarray(detector), asarray([0.0])]\n",
        "# store the weights in the model\n",
        "model.set_weights(weights)\n",
        "# apply filter to input data\n",
        "yhat = model.predict(data)\n",
        "# enumerate rows\n",
        "for r in range(yhat.shape[1]):\n",
        "\t# print each column in the row\n",
        "\tprint([yhat[0,r,c,0] for c in range(yhat.shape[2])])\n"
      ],
      "outputs": [],
      "execution_count": null
    },
    {
      "cell_type": "markdown",
      "metadata": {},
      "source": [
        "The result is a four-dimensional output with one batch, a given number of rows and columns,\n",
        "and one filter, or [batch, rows, columns, filters]. We can print the activations in the\n",
        "single feature map to confirm that the line was detected."
      ]
    },
    {
      "cell_type": "markdown",
      "metadata": {},
      "source": [
        "Running the example first summarizes the structure of the model. Of note is that the single\n",
        "hidden convolutional layer will take the 8 X 8 pixel input image and will produce a feature map\n",
        "with the dimensions of 6 X 6. We will go into why this is the case in the next section. We can\n",
        "also see that the layer has 10 parameters, that is nine weights for the filter (3 X 3) and one\n",
        "weight for the bias. Finally, the feature map is printed. We can see from reviewing the numbers\n",
        "in the 6 X 6 matrix that indeed the manually specified filter detected the vertical line in the\n",
        "middle of our input image."
      ]
    }
  ],
  "metadata": {
    "anaconda-cloud": {},
    "kernelspec": {
      "display_name": "Python 3",
      "language": "python",
      "name": "python3"
    },
    "language_info": {
      "codemirror_mode": {
        "name": "ipython",
        "version": 3
      },
      "file_extension": ".py",
      "mimetype": "text/x-python",
      "name": "python",
      "nbconvert_exporter": "python",
      "pygments_lexer": "ipython3",
      "version": "3.6.1"
    }
  },
  "nbformat": 4,
  "nbformat_minor": 1
}