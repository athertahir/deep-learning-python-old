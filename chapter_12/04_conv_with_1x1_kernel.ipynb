{
  "cells": [
    {
      "cell_type": "markdown",
      "metadata": {},
      "source": [
        "## Effect of Filter Size (Kernel Size)\n",
        "Different sized filters will detect different sized features in the input image and, in turn, will\n",
        "result in differently sized feature maps. It is common to use 3 X 3 sized filters, and perhaps\n",
        "5 X 5 or even 7 X 7 sized filters, for larger input images. For example, below is an example of\n",
        "the model with a single filter updated to use a filter size of 1 X 1 pixels."
      ]
    },
    {
      "cell_type": "code",
      "metadata": {},
      "source": [
        "# example of a convolutional layer\n",
        "from keras.models import Sequential\n",
        "from keras.layers import Conv2D\n",
        "# create model\n",
        "model = Sequential()\n",
        "model.add(Conv2D(1, (1,1), input_shape=(8, 8, 1)))\n",
        "# summarize model\n",
        "model.summary()"
      ],
      "outputs": [],
      "execution_count": null
    },
    {
      "cell_type": "markdown",
      "metadata": {},
      "source": [
        "Running the example demonstrates that the output feature map has the same size as the\n",
        "input, specifically 8 X 8. This is because the filter only has a single weight (and a bias)"
      ]
    }
  ],
  "metadata": {
    "anaconda-cloud": {},
    "kernelspec": {
      "display_name": "Python 3",
      "language": "python",
      "name": "python3"
    },
    "language_info": {
      "codemirror_mode": {
        "name": "ipython",
        "version": 3
      },
      "file_extension": ".py",
      "mimetype": "text/x-python",
      "name": "python",
      "nbconvert_exporter": "python",
      "pygments_lexer": "ipython3",
      "version": "3.6.1"
    }
  },
  "nbformat": 4,
  "nbformat_minor": 1
}