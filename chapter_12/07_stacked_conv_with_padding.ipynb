{
  "cells": [
    {
      "cell_type": "markdown",
      "metadata": {},
      "source": [
        "The addition of padding allows the development of very deep models in such a way that the\n",
        "feature maps do not dwindle away to nothing. The example below demonstrates this with three\n",
        "stacked convolutional layers."
      ]
    },
    {
      "cell_type": "code",
      "metadata": {},
      "source": [
        "# example a deep cnn with padding\n",
        "from keras.models import Sequential\n",
        "from keras.layers import Conv2D\n",
        "# create model\n",
        "model = Sequential()\n",
        "model.add(Conv2D(1, (3,3), padding='same', input_shape=(8, 8, 1)))\n",
        "model.add(Conv2D(1, (3,3), padding='same'))\n",
        "model.add(Conv2D(1, (3,3), padding='same'))\n",
        "# summarize model\n",
        "model.summary()"
      ],
      "outputs": [],
      "execution_count": null
    },
    {
      "cell_type": "markdown",
      "metadata": {},
      "source": [
        "Running the example, we can see that with the addition of padding, the shape of the output\n",
        "feature maps remains fixed at 8 X 8 even three layers deep."
      ]
    }
  ],
  "metadata": {
    "anaconda-cloud": {},
    "kernelspec": {
      "display_name": "Python 3",
      "language": "python",
      "name": "python3"
    },
    "language_info": {
      "codemirror_mode": {
        "name": "ipython",
        "version": 3
      },
      "file_extension": ".py",
      "mimetype": "text/x-python",
      "name": "python",
      "nbconvert_exporter": "python",
      "pygments_lexer": "ipython3",
      "version": "3.6.1"
    }
  },
  "nbformat": 4,
  "nbformat_minor": 1
}