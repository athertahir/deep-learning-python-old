{
  "cells": [
    {
      "cell_type": "code",
      "metadata": {},
      "source": [
        "# organize dataset into a useful structure\n",
        "from os import makedirs\n",
        "from os import listdir\n",
        "from shutil import copyfile\n",
        "# create directories\n",
        "dataset_home = 'finalize_dogs_vs_cats/'\n",
        "# create label subdirectories\n",
        "labeldirs = ['dogs/', 'cats/']\n",
        "for labldir in labeldirs:\n",
        "\tnewdir = dataset_home + labldir\n",
        "\tmakedirs(newdir, exist_ok=True)\n",
        "# copy training dataset images into subdirectories\n",
        "src_directory = 'dogs-vs-cats/train/'\n",
        "for file in listdir(src_directory):\n",
        "\tsrc = src_directory + '/' + file\n",
        "\tif file.startswith('cat'):\n",
        "\t\tdst = dataset_home + 'cats/'  + file\n",
        "\t\tcopyfile(src, dst)\n",
        "\telif file.startswith('dog'):\n",
        "\t\tdst = dataset_home + 'dogs/'  + file\n",
        "\t\tcopyfile(src, dst)"
      ],
      "outputs": [],
      "execution_count": null
    }
  ],
  "metadata": {
    "anaconda-cloud": {},
    "kernelspec": {
      "display_name": "Python 3",
      "language": "python",
      "name": "python3"
    },
    "language_info": {
      "codemirror_mode": {
        "name": "ipython",
        "version": 3
      },
      "file_extension": ".py",
      "mimetype": "text/x-python",
      "name": "python",
      "nbconvert_exporter": "python",
      "pygments_lexer": "ipython3",
      "version": "3.6.1"
    }
  },
  "nbformat": 4,
  "nbformat_minor": 1
}