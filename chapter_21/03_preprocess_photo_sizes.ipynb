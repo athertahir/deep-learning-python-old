{
  "cells": [
    {
      "cell_type": "code",
      "metadata": {},
      "source": [
        "# load dogs vs cats dataset, reshape and save to a new file\n",
        "from os import listdir\n",
        "from numpy import asarray\n",
        "from numpy import save\n",
        "from keras.preprocessing.image import load_img\n",
        "from keras.preprocessing.image import img_to_array\n",
        "# define location of dataset\n",
        "folder = 'train/'\n",
        "photos, labels = list(), list()\n",
        "# enumerate files in the directory\n",
        "for file in listdir(folder):\n",
        "\t# determine class\n",
        "\toutput = 0.0\n",
        "\tif file.startswith('cat'):\n",
        "\t\toutput = 1.0\n",
        "\t# load image\n",
        "\tphoto = load_img(folder + file, target_size=(200, 200))\n",
        "\t# convert to numpy array\n",
        "\tphoto = img_to_array(photo)\n",
        "\t# store\n",
        "\tphotos.append(photo)\n",
        "\tlabels.append(output)\n",
        "# convert to numpy arrays\n",
        "photos = asarray(photos)\n",
        "labels = asarray(labels)\n",
        "print(photos.shape, labels.shape)\n",
        "# save the reshaped photos\n",
        "save('dogs_vs_cats_photos.npy', photos)\n",
        "save('dogs_vs_cats_labels.npy', labels)"
      ],
      "outputs": [],
      "execution_count": null
    }
  ],
  "metadata": {
    "anaconda-cloud": {},
    "kernelspec": {
      "display_name": "Python 3",
      "language": "python",
      "name": "python3"
    },
    "language_info": {
      "codemirror_mode": {
        "name": "ipython",
        "version": 3
      },
      "file_extension": ".py",
      "mimetype": "text/x-python",
      "name": "python",
      "nbconvert_exporter": "python",
      "pygments_lexer": "ipython3",
      "version": "3.6.1"
    }
  },
  "nbformat": 4,
  "nbformat_minor": 1
}