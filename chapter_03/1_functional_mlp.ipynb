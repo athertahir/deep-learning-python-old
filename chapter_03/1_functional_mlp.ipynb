{
  "cells": [
    {
      "cell_type": "markdown",
      "metadata": {},
      "source": [
        "## Multilayer Perceptron\n",
        "In this section, we define a Multilayer Perceptron model for binary classification. The model\n",
        "has 10 inputs, 3 hidden layers with 10, 20, and 10 neurons, and an output layer with 1 output.\n",
        "Rectified linear activation functions are used in each hidden layer and a sigmoid activation\n",
        "function is used in the output layer, for binary classification."
      ]
    },
    {
      "cell_type": "code",
      "metadata": {},
      "source": [
        "# example of a multilayer perceptron\n",
        "from keras.utils import plot_model\n",
        "from keras.models import Model\n",
        "from keras.layers import Input\n",
        "from keras.layers import Dense\n",
        "visible = Input(shape=(10,))\n",
        "hidden1 = Dense(10, activation='relu')(visible)\n",
        "hidden2 = Dense(20, activation='relu')(hidden1)\n",
        "hidden3 = Dense(10, activation='relu')(hidden2)\n",
        "output = Dense(1, activation='sigmoid')(hidden3)\n",
        "model = Model(inputs=visible, outputs=output)"
      ],
      "outputs": [],
      "execution_count": null
    },
    {
      "cell_type": "markdown",
      "metadata": {},
      "source": [
        " \n",
        "Running the example prints the structure of the network."
      ]
    },
    {
      "cell_type": "code",
      "metadata": {},
      "source": [
        "# summarize layers\n",
        "model.summary()\n"
      ],
      "outputs": [],
      "execution_count": null
    }
  ],
  "metadata": {
    "anaconda-cloud": {},
    "kernelspec": {
      "display_name": "Python 3",
      "language": "python",
      "name": "python3"
    },
    "language_info": {
      "codemirror_mode": {
        "name": "ipython",
        "version": 3
      },
      "file_extension": ".py",
      "mimetype": "text/x-python",
      "name": "python",
      "nbconvert_exporter": "python",
      "pygments_lexer": "ipython3",
      "version": "3.6.1"
    }
  },
  "nbformat": 4,
  "nbformat_minor": 1
}