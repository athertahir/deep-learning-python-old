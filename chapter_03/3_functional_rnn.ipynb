{
  "cells": [
    {
      "cell_type": "markdown",
      "metadata": {},
      "source": [
        "## Recurrent Neural Network\n",
        "In this section, we will define a long short-term memory recurrent neural network for sequence\n",
        "classification. The model expects 100 time steps of one feature as input. The model has a single\n",
        "LSTM hidden layer to extract features from the sequence, followed by a fully connected layer to\n",
        "interpret the LSTM output, followed by an output layer for making binary predictions"
      ]
    },
    {
      "cell_type": "code",
      "metadata": {},
      "source": [
        "# example of a recurrent neural network\n",
        "from keras.utils import plot_model\n",
        "from keras.models import Model\n",
        "from keras.layers import Input\n",
        "from keras.layers import Dense\n",
        "from keras.layers.recurrent import LSTM\n",
        "visible = Input(shape=(100,1))\n",
        "hidden1 = LSTM(10)(visible)\n",
        "hidden2 = Dense(10, activation='relu')(hidden1)\n",
        "output = Dense(1, activation='sigmoid')(hidden2)\n",
        "model = Model(inputs=visible, outputs=output)"
      ],
      "outputs": [],
      "execution_count": null
    },
    {
      "cell_type": "markdown",
      "metadata": {},
      "source": [
        " \n",
        "Running the example prints the structure of the network. A plot of the model graph is also created and saved to file."
      ]
    },
    {
      "cell_type": "code",
      "metadata": {},
      "source": [
        "# summarize layers\n",
        "model.summary()\n",
        "# plot graph\n",
        "plot_model(model, to_file='/tmp/recurrent_neural_network.png')"
      ],
      "outputs": [],
      "execution_count": null
    }
  ],
  "metadata": {
    "anaconda-cloud": {},
    "kernelspec": {
      "display_name": "Python 3",
      "language": "python",
      "name": "python3"
    },
    "language_info": {
      "codemirror_mode": {
        "name": "ipython",
        "version": 3
      },
      "file_extension": ".py",
      "mimetype": "text/x-python",
      "name": "python",
      "nbconvert_exporter": "python",
      "pygments_lexer": "ipython3",
      "version": "3.6.1"
    }
  },
  "nbformat": 4,
  "nbformat_minor": 1
}