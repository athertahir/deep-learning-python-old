{
  "cells": [
    {
      "cell_type": "markdown",
      "metadata": {},
      "source": [
        "## Convolutional Neural Network\n",
        "In this section, we will define a convolutional neural network for image classification. The model\n",
        "receives black and white 64 X 64 images as input, then has a sequence of two convolutional and\n",
        "pooling layers as feature extractors, followed by a fully connected layer to interpret the features\n",
        "and an output layer with a sigmoid activation for two-class predictions. "
      ]
    },
    {
      "cell_type": "code",
      "metadata": {},
      "source": [
        "# example of a convolutional neural network\n",
        "from keras.utils import plot_model\n",
        "from keras.models import Model\n",
        "from keras.layers import Input\n",
        "from keras.layers import Dense\n",
        "from keras.layers import Flatten\n",
        "from keras.layers.convolutional import Conv2D\n",
        "from keras.layers.pooling import MaxPooling2D\n",
        "visible = Input(shape=(64,64,1))\n",
        "conv1 = Conv2D(32, (4,4), activation='relu')(visible)\n",
        "pool1 = MaxPooling2D()(conv1)\n",
        "conv2 = Conv2D(16, (4,4), activation='relu')(pool1)\n",
        "pool2 = MaxPooling2D()(conv2)\n",
        "flat1 = Flatten()(pool2)\n",
        "hidden1 = Dense(10, activation='relu')(flat1)\n",
        "output = Dense(1, activation='sigmoid')(hidden1)\n",
        "model = Model(inputs=visible, outputs=output)\n"
      ],
      "outputs": [],
      "execution_count": null
    },
    {
      "cell_type": "markdown",
      "metadata": {},
      "source": [
        " \n",
        "Running the example prints the structure of the network. A plot of the model graph is also created and saved to file."
      ]
    },
    {
      "cell_type": "code",
      "metadata": {},
      "source": [
        "# summarize layers\n",
        "model.summary()\n",
        "# plot graph\n",
        "plot_model(model, to_file='/tmp/convolutional_neural_network.png')"
      ],
      "outputs": [],
      "execution_count": null
    }
  ],
  "metadata": {
    "anaconda-cloud": {},
    "kernelspec": {
      "display_name": "Python 3",
      "language": "python",
      "name": "python3"
    },
    "language_info": {
      "codemirror_mode": {
        "name": "ipython",
        "version": 3
      },
      "file_extension": ".py",
      "mimetype": "text/x-python",
      "name": "python",
      "nbconvert_exporter": "python",
      "pygments_lexer": "ipython3",
      "version": "3.6.1"
    }
  },
  "nbformat": 4,
  "nbformat_minor": 1
}