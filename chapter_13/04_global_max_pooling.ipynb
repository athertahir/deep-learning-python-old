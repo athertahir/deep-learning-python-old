{
  "cells": [
    {
      "cell_type": "markdown",
      "metadata": {},
      "source": [
        "## Global Pooling Layers\n",
        "There is another type of pooling that is sometimes used called global pooling. Instead of down\n",
        "sampling patches of the input feature map, global pooling downsamples the entire feature map to\n",
        "a single value. This would be the same as setting the pool size to the size of the input feature\n",
        "map. Global pooling can be used in a model to aggressively summarize the presence of a feature\n",
        "in an image. It is also sometimes used in models as an alternative to using a fully connected\n",
        "layer to transition from feature maps to an output prediction for the model. Both global average\n",
        "pooling and global max pooling are supported by Keras via the GlobalAveragePooling2D and\n",
        "GlobalMaxPooling2D classes respectively. For example, we can add global max pooling to the\n",
        "convolutional model used for vertical line detection."
      ]
    },
    {
      "cell_type": "markdown",
      "metadata": {},
      "source": [
        "The outcome will be a single value that will summarize the strongest activation or presence\n",
        "of the vertical line in the input image. The complete code listing is provided below."
      ]
    },
    {
      "cell_type": "code",
      "metadata": {},
      "source": [
        "# example of using global max pooling\n",
        "from numpy import asarray\n",
        "from keras.models import Sequential\n",
        "from keras.layers import Conv2D\n",
        "from keras.layers import GlobalMaxPooling2D\n",
        "# define input data\n",
        "data = [[0, 0, 0, 1, 1, 0, 0, 0],\n",
        "\t\t[0, 0, 0, 1, 1, 0, 0, 0],\n",
        "\t\t[0, 0, 0, 1, 1, 0, 0, 0],\n",
        "\t\t[0, 0, 0, 1, 1, 0, 0, 0],\n",
        "\t\t[0, 0, 0, 1, 1, 0, 0, 0],\n",
        "\t\t[0, 0, 0, 1, 1, 0, 0, 0],\n",
        "\t\t[0, 0, 0, 1, 1, 0, 0, 0],\n",
        "\t\t[0, 0, 0, 1, 1, 0, 0, 0]]\n",
        "data = asarray(data)\n",
        "data = data.reshape(1, 8, 8, 1)\n",
        "# create model\n",
        "model = Sequential()\n",
        "model.add(Conv2D(1, (3,3), activation='relu', input_shape=(8, 8, 1)))\n",
        "model.add(GlobalMaxPooling2D())\n",
        "# summarize model\n",
        "model.summary()\n",
        "# define a vertical line detector\n",
        "detector = [[[[0]],[[1]],[[0]]],\n",
        "            [[[0]],[[1]],[[0]]],\n",
        "            [[[0]],[[1]],[[0]]]]\n",
        "weights = [asarray(detector), asarray([0.0])]\n",
        "# store the weights in the model\n",
        "model.set_weights(weights)\n",
        "# apply filter to input data\n",
        "yhat = model.predict(data)\n",
        "# show result\n",
        "print(yhat)\n"
      ],
      "outputs": [],
      "execution_count": null
    },
    {
      "cell_type": "markdown",
      "metadata": {},
      "source": [
        "Running the example first summarizes the model. We can see that, as expected, the output\n",
        "of the global pooling layer is a single value that summarizes the presence of the feature in the\n",
        "single feature map. Next, the output of the model is printed showing the effect of global max\n",
        "pooling on the feature map, printing the single largest activation"
      ]
    }
  ],
  "metadata": {
    "anaconda-cloud": {},
    "kernelspec": {
      "display_name": "Python 3",
      "language": "python",
      "name": "python3"
    },
    "language_info": {
      "codemirror_mode": {
        "name": "ipython",
        "version": 3
      },
      "file_extension": ".py",
      "mimetype": "text/x-python",
      "name": "python",
      "nbconvert_exporter": "python",
      "pygments_lexer": "ipython3",
      "version": "3.6.1"
    }
  },
  "nbformat": 4,
  "nbformat_minor": 1
}