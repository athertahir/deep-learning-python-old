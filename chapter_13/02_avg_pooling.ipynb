{
  "cells": [
    {
      "cell_type": "markdown",
      "metadata": {},
      "source": [
        "## Average Pooling Layer\n",
        "On two-dimensional feature maps, pooling is typically applied in 2 X 2 patches of the feature\n",
        "map with a stride of (2,2). Average pooling involves calculating the average for each patch of\n",
        "the feature map. This means that each 2 X 2 square of the feature map is downsampled to the\n",
        "average value in the square. For example, the output of the line detector convolutional filter13.4. Average Pooling Layer 138\n",
        "in the previous section was a 6 X 6 feature map. We can look at applying the average pooling\n",
        "operation to the first line of patches of that feature map manually. The first line of pooling\n",
        "input (first two rows and six columns) of the output feature map were as follows:\n",
        "\n",
        "[0.0, 0.0, 3.0, 3.0, 0.0, 0.0]\n",
        "[0.0, 0.0, 3.0, 3.0, 0.0, 0.0]"
      ]
    },
    {
      "cell_type": "code",
      "metadata": {},
      "source": [
        "# example of average pooling\n",
        "from numpy import asarray\n",
        "from keras.models import Sequential\n",
        "from keras.layers import Conv2D\n",
        "from keras.layers import AveragePooling2D\n",
        "# define input data\n",
        "data = [[0, 0, 0, 1, 1, 0, 0, 0],\n",
        "\t\t[0, 0, 0, 1, 1, 0, 0, 0],\n",
        "\t\t[0, 0, 0, 1, 1, 0, 0, 0],\n",
        "\t\t[0, 0, 0, 1, 1, 0, 0, 0],\n",
        "\t\t[0, 0, 0, 1, 1, 0, 0, 0],\n",
        "\t\t[0, 0, 0, 1, 1, 0, 0, 0],\n",
        "\t\t[0, 0, 0, 1, 1, 0, 0, 0],\n",
        "\t\t[0, 0, 0, 1, 1, 0, 0, 0]]\n",
        "data = asarray(data)\n",
        "data = data.reshape(1, 8, 8, 1)\n",
        "# create model\n",
        "model = Sequential()\n",
        "model.add(Conv2D(1, (3,3), activation='relu', input_shape=(8, 8, 1)))\n",
        "model.add(AveragePooling2D())\n",
        "# summarize model\n",
        "model.summary()\n",
        "# define a vertical line detector\n",
        "detector = [[[[0]],[[1]],[[0]]],\n",
        "            [[[0]],[[1]],[[0]]],\n",
        "            [[[0]],[[1]],[[0]]]]\n",
        "weights = [asarray(detector), asarray([0.0])]\n",
        "# store the weights in the model\n",
        "model.set_weights(weights)\n",
        "# apply filter to input data\n",
        "yhat = model.predict(data)\n",
        "# enumerate rows\n",
        "for r in range(yhat.shape[1]):\n",
        "\t# print each column in the row\n",
        "\tprint([yhat[0,r,c,0] for c in range(yhat.shape[2])])"
      ],
      "outputs": [],
      "execution_count": null
    },
    {
      "cell_type": "markdown",
      "metadata": {},
      "source": [
        "Running the example first summarizes the model. We can see from the model summary that\n",
        "the input to the pooling layer will be a single feature map with the shape (6,6) and that the\n",
        "output of the average pooling layer will be a single feature map with each dimension halved,\n",
        "with the shape (3,3). Applying the average pooling results in a new feature map that still\n",
        "detects the line, although in a downsampled manner, exactly as we expected from calculating\n",
        "the operation manually"
      ]
    }
  ],
  "metadata": {
    "anaconda-cloud": {},
    "kernelspec": {
      "display_name": "Python 3",
      "language": "python",
      "name": "python3"
    },
    "language_info": {
      "codemirror_mode": {
        "name": "ipython",
        "version": 3
      },
      "file_extension": ".py",
      "mimetype": "text/x-python",
      "name": "python",
      "nbconvert_exporter": "python",
      "pygments_lexer": "ipython3",
      "version": "3.6.1"
    }
  },
  "nbformat": 4,
  "nbformat_minor": 1
}