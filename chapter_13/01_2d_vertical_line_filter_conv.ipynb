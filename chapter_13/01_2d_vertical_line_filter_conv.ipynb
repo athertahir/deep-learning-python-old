{
  "cells": [
    {
      "cell_type": "markdown",
      "metadata": {},
      "source": [
        "## Detecting Vertical Lines\n",
        "Before we look at some examples of pooling layers and their effects, let\u00e2\u20ac\u2122s develop a small example\n",
        "of an input image and convolutional layer to which we can later add and evaluate pooling layers. In this example, we define a single input\n",
        "image or sample that has one channel and is an 8 pixel by 8 pixel square with all 0 values and a\n",
        "two-pixel wide vertical line in the center"
      ]
    },
    {
      "cell_type": "code",
      "metadata": {},
      "source": [
        "# example of vertical line detection with a convolutional layer\n",
        "from numpy import asarray\n",
        "from keras.models import Sequential\n",
        "from keras.layers import Conv2D\n",
        "# define input data\n",
        "data = [[0, 0, 0, 1, 1, 0, 0, 0],\n",
        "\t\t[0, 0, 0, 1, 1, 0, 0, 0],\n",
        "\t\t[0, 0, 0, 1, 1, 0, 0, 0],\n",
        "\t\t[0, 0, 0, 1, 1, 0, 0, 0],\n",
        "\t\t[0, 0, 0, 1, 1, 0, 0, 0],\n",
        "\t\t[0, 0, 0, 1, 1, 0, 0, 0],\n",
        "\t\t[0, 0, 0, 1, 1, 0, 0, 0],\n",
        "\t\t[0, 0, 0, 1, 1, 0, 0, 0]]\n",
        "data = asarray(data)\n",
        "data = data.reshape(1, 8, 8, 1)\n"
      ],
      "outputs": [],
      "execution_count": null
    },
    {
      "cell_type": "markdown",
      "metadata": {},
      "source": [
        "Next, we can define a model that expects input samples to have the shape (8, 8, 1) and has\n",
        "a single hidden convolutional layer with a single filter with the shape of 3 pixels by 3 pixels.\n",
        "A rectified linear activation function, or ReLU for short, is then applied to each value in the\n",
        "feature map. This is a simple and effective nonlinearity, that in this case will not change the\n",
        "values in the feature map, but is present because we will later add subsequent pooling layers\n",
        "and pooling is added after the nonlinearity applied to the feature maps, e.g. a best practice."
      ]
    },
    {
      "cell_type": "code",
      "metadata": {},
      "source": [
        "# create model\n",
        "model = Sequential()\n",
        "model.add(Conv2D(1, (3,3), activation='relu', input_shape=(8, 8, 1)))\n",
        "# summarize model\n",
        "model.summary()"
      ],
      "outputs": [],
      "execution_count": null
    },
    {
      "cell_type": "markdown",
      "metadata": {},
      "source": [
        "The filter is initialized with random weights as part of the initialization of the model. Instead,\n",
        "we will hard code our own 3 X 3 filter that will detect vertical lines. That is, the filter will\n",
        "strongly activate when it detects a vertical line and weakly activate when it does not. We expect\n",
        "that by applying this filter across the input image that the output feature map will show that\n",
        "the vertical line was detected.\n",
        "\n",
        "Next, we can apply the filter to our input image by calling the predict() function on the\n",
        "model."
      ]
    },
    {
      "cell_type": "code",
      "metadata": {},
      "source": [
        "# define a vertical line detector\n",
        "detector = [[[[0]],[[1]],[[0]]],\n",
        "            [[[0]],[[1]],[[0]]],\n",
        "            [[[0]],[[1]],[[0]]]]\n",
        "weights = [asarray(detector), asarray([0.0])]\n",
        "# store the weights in the model\n",
        "model.set_weights(weights)\n",
        "# apply filter to input data\n",
        "yhat = model.predict(data)\n"
      ],
      "outputs": [],
      "execution_count": null
    },
    {
      "cell_type": "markdown",
      "metadata": {},
      "source": [
        "The result is a four-dimensional output with one batch, a given number of rows and columns,\n",
        "and one filter, or [batch, rows, columns, filters]. We can print the activations in the single\n",
        "feature map to confirm that the line was detected."
      ]
    },
    {
      "cell_type": "code",
      "metadata": {},
      "source": [
        "# enumerate rows\n",
        "for r in range(yhat.shape[1]):\n",
        "\t# print each column in the row\n",
        "\tprint([yhat[0,r,c,0] for c in range(yhat.shape[2])])"
      ],
      "outputs": [],
      "execution_count": null
    },
    {
      "cell_type": "markdown",
      "metadata": {},
      "source": [
        "Running the example first summarizes the structure of the model. Of note is that the single\n",
        "hidden convolutional layer will take the 8 X 8 pixel input image and will produce a feature map\n",
        "with the dimensions of 6 X 6. We can also see that the layer has 10 parameters: that is nine\n",
        "weights for the filter (3 X 3) and one weight for the bias. Finally, the single feature map is\n",
        "printed. We can see from reviewing the numbers in the 6 X 6 matrix that indeed the manually\n",
        "specified filter detected the vertical line in the middle of our input image"
      ]
    }
  ],
  "metadata": {
    "anaconda-cloud": {},
    "kernelspec": {
      "display_name": "Python 3",
      "language": "python",
      "name": "python3"
    },
    "language_info": {
      "codemirror_mode": {
        "name": "ipython",
        "version": 3
      },
      "file_extension": ".py",
      "mimetype": "text/x-python",
      "name": "python",
      "nbconvert_exporter": "python",
      "pygments_lexer": "ipython3",
      "version": "3.6.1"
    }
  },
  "nbformat": 4,
  "nbformat_minor": 1
}