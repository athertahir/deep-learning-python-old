{
  "cells": [
    {
      "cell_type": "code",
      "metadata": {},
      "source": [
        "# example of extracting bounding boxes from an annotation file\n",
        "from xml.etree import ElementTree\n",
        "\n",
        "# function to extract bounding boxes from an annotation file\n",
        "def extract_boxes(filename):\n",
        "\t# load and parse the file\n",
        "\ttree = ElementTree.parse(filename)\n",
        "\t# get the root of the document\n",
        "\troot = tree.getroot()\n",
        "\t# extract each bounding box\n",
        "\tboxes = list()\n",
        "\tfor box in root.findall('.//bndbox'):\n",
        "\t\txmin = int(box.find('xmin').text)\n",
        "\t\tymin = int(box.find('ymin').text)\n",
        "\t\txmax = int(box.find('xmax').text)\n",
        "\t\tymax = int(box.find('ymax').text)\n",
        "\t\tcoors = [xmin, ymin, xmax, ymax]\n",
        "\t\tboxes.append(coors)\n",
        "\t# extract image dimensions\n",
        "\twidth = int(root.find('.//size/width').text)\n",
        "\theight = int(root.find('.//size/height').text)\n",
        "\treturn boxes, width, height\n",
        "\n",
        "# extract details form annotation file\n",
        "boxes, w, h = extract_boxes('kangaroo/annots/00001.xml')\n",
        "# summarize extracted details\n",
        "print(boxes, w, h)"
      ],
      "outputs": [],
      "execution_count": null
    }
  ],
  "metadata": {
    "anaconda-cloud": {},
    "kernelspec": {
      "display_name": "Python 3",
      "language": "python",
      "name": "python3"
    },
    "language_info": {
      "codemirror_mode": {
        "name": "ipython",
        "version": 3
      },
      "file_extension": ".py",
      "mimetype": "text/x-python",
      "name": "python",
      "nbconvert_exporter": "python",
      "pygments_lexer": "ipython3",
      "version": "3.6.1"
    }
  },
  "nbformat": 4,
  "nbformat_minor": 1
}