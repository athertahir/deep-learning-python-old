{
  "cells": [
    {
      "cell_type": "code",
      "metadata": {},
      "source": [
        "# example of inference with a pre-trained coco model\n",
        "from keras.preprocessing.image import load_img\n",
        "from keras.preprocessing.image import img_to_array\n",
        "from mrcnn.visualize import display_instances\n",
        "from mrcnn.config import Config\n",
        "from mrcnn.model import MaskRCNN\n",
        "\n",
        "# define 81 classes that the coco model knowns about\n",
        "class_names = ['BG', 'person', 'bicycle', 'car', 'motorcycle', 'airplane',\n",
        "               'bus', 'train', 'truck', 'boat', 'traffic light',\n",
        "               'fire hydrant', 'stop sign', 'parking meter', 'bench', 'bird',\n",
        "               'cat', 'dog', 'horse', 'sheep', 'cow', 'elephant', 'bear',\n",
        "               'zebra', 'giraffe', 'backpack', 'umbrella', 'handbag', 'tie',\n",
        "               'suitcase', 'frisbee', 'skis', 'snowboard', 'sports ball',\n",
        "               'kite', 'baseball bat', 'baseball glove', 'skateboard',\n",
        "               'surfboard', 'tennis racket', 'bottle', 'wine glass', 'cup',\n",
        "               'fork', 'knife', 'spoon', 'bowl', 'banana', 'apple',\n",
        "               'sandwich', 'orange', 'broccoli', 'carrot', 'hot dog', 'pizza',\n",
        "               'donut', 'cake', 'chair', 'couch', 'potted plant', 'bed',\n",
        "               'dining table', 'toilet', 'tv', 'laptop', 'mouse', 'remote',\n",
        "               'keyboard', 'cell phone', 'microwave', 'oven', 'toaster',\n",
        "               'sink', 'refrigerator', 'book', 'clock', 'vase', 'scissors',\n",
        "               'teddy bear', 'hair drier', 'toothbrush']\n",
        "\n",
        "# define the test configuration\n",
        "class TestConfig(Config):\n",
        "     NAME = \"test\"\n",
        "     GPU_COUNT = 1\n",
        "     IMAGES_PER_GPU = 1\n",
        "     NUM_CLASSES = 1 + 80\n",
        "\n",
        "# define the model\n",
        "rcnn = MaskRCNN(mode='inference', model_dir='./', config=TestConfig())\n",
        "# load coco model weights\n",
        "rcnn.load_weights('mask_rcnn_coco.h5', by_name=True)\n",
        "# load photograph\n",
        "img = load_img('elephant.jpg')\n",
        "img = img_to_array(img)\n",
        "# make prediction\n",
        "results = rcnn.detect([img], verbose=0)\n",
        "# get dictionary for first prediction\n",
        "r = results[0]\n",
        "# show photo with bounding boxes, masks, class labels and scores\n",
        "display_instances(img, r['rois'], r['masks'], r['class_ids'], class_names, r['scores'])"
      ],
      "outputs": [],
      "execution_count": null
    }
  ],
  "metadata": {
    "anaconda-cloud": {},
    "kernelspec": {
      "display_name": "Python 3",
      "language": "python",
      "name": "python3"
    },
    "language_info": {
      "codemirror_mode": {
        "name": "ipython",
        "version": 3
      },
      "file_extension": ".py",
      "mimetype": "text/x-python",
      "name": "python",
      "nbconvert_exporter": "python",
      "pygments_lexer": "ipython3",
      "version": "3.6.1"
    }
  },
  "nbformat": 4,
  "nbformat_minor": 1
}