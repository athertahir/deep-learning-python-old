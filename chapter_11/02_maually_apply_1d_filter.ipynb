{
  "cells": [
    {
      "cell_type": "markdown",
      "metadata": {},
      "source": [
        "Running the following example to manually apply a one-dimensional filter"
      ]
    },
    {
      "cell_type": "code",
      "metadata": {},
      "source": [
        "# manually apply a 1d filter\n",
        "from numpy import asarray\n",
        "print(asarray([0, 1, 0]).dot(asarray([0, 0, 0])))"
      ],
      "outputs": [],
      "execution_count": null
    }
  ],
  "metadata": {
    "anaconda-cloud": {},
    "kernelspec": {
      "display_name": "Python 3",
      "language": "python",
      "name": "python3"
    },
    "language_info": {
      "codemirror_mode": {
        "name": "ipython",
        "version": 3
      },
      "file_extension": ".py",
      "mimetype": "text/x-python",
      "name": "python",
      "nbconvert_exporter": "python",
      "pygments_lexer": "ipython3",
      "version": "3.6.1"
    }
  },
  "nbformat": 4,
  "nbformat_minor": 1
}