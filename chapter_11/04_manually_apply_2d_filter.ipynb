{
  "cells": [
    {
      "cell_type": "markdown",
      "metadata": {},
      "source": [
        "Running the following example to manually calculate a two-dimensional filter"
      ]
    },
    {
      "cell_type": "code",
      "metadata": {},
      "source": [
        "# example of manually applying a 2d filter.\n",
        "from numpy import asarray\n",
        "from numpy import tensordot\n",
        "m1 = asarray([[0, 1, 0],\n",
        "\t\t\t  [0, 1, 0],\n",
        "\t\t\t  [0, 1, 0]])\n",
        "m2 = asarray([[0, 0, 0],\n",
        "\t\t\t  [0, 0, 0],\n",
        "\t\t\t  [0, 0, 0]])\n",
        "print(tensordot(m1, m2))"
      ],
      "outputs": [],
      "execution_count": null
    }
  ],
  "metadata": {
    "anaconda-cloud": {},
    "kernelspec": {
      "display_name": "Python 3",
      "language": "python",
      "name": "python3"
    },
    "language_info": {
      "codemirror_mode": {
        "name": "ipython",
        "version": 3
      },
      "file_extension": ".py",
      "mimetype": "text/x-python",
      "name": "python",
      "nbconvert_exporter": "python",
      "pygments_lexer": "ipython3",
      "version": "3.6.1"
    }
  },
  "nbformat": 4,
  "nbformat_minor": 1
}