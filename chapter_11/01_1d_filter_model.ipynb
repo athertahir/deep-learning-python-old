{
  "cells": [
    {
      "cell_type": "markdown",
      "metadata": {},
      "source": [
        "## Example of 1D Convolutional Layer\n",
        "We can define a one-dimensional input that has eight elements; two in the middle with the value\n",
        "1.0, and three on either side with the value of 0.0.\n",
        "\n",
        "[0, 0, 0, 1, 1, 0, 0, 0]\n",
        "\n",
        "The input to Keras must be three dimensional for a 1D convolutional layer. The first\n",
        "dimension refers to each input sample; in this case, we only have one sample. The second\n",
        "dimension refers to the length of each sample; in this case, the length is eight. The third\n",
        "dimension refers to the number of channels in each sample; in this case, we only have a single\n",
        "channel. Therefore, the shape of the input array will be [1, 8, 1]"
      ]
    },
    {
      "cell_type": "code",
      "metadata": {},
      "source": [
        "# example of calculation 1d convolutions\n",
        "from numpy import asarray\n",
        "from keras.models import Sequential\n",
        "from keras.layers import Conv1D\n",
        "# define input data\n",
        "data = asarray([0, 0, 0, 1, 1, 0, 0, 0])\n",
        "data = data.reshape(1, 8, 1)\n"
      ],
      "outputs": [],
      "execution_count": null
    },
    {
      "cell_type": "markdown",
      "metadata": {},
      "source": [
        "We will define a model that expects input samples to have the shape [8, 1]. The model will\n",
        "have a single filter with the shape of 3, or three elements wide. Keras refers to the shape of the\n",
        "filter as the kernel size (the required second argument to the layer).\n",
        "\n",
        "Each filter also has a bias input value that also requires a weight that we will set to zero.\n",
        "Therefore, we can force the weights of our one-dimensional convolutional layer to use our\n",
        "handcrafted filter as follows:"
      ]
    },
    {
      "cell_type": "code",
      "metadata": {},
      "source": [
        "# create model\n",
        "model = Sequential()\n",
        "model.add(Conv1D(1, 3, input_shape=(8, 1)))\n",
        "# define a vertical line detector\n",
        "weights = [asarray([[[0]],[[1]],[[0]]]), asarray([0.0])]\n",
        "# store the weights in the model\n",
        "model.set_weights(weights)\n",
        "# confirm they were stored\n",
        "print(model.get_weights())\n"
      ],
      "outputs": [],
      "execution_count": null
    },
    {
      "cell_type": "markdown",
      "metadata": {},
      "source": [
        "Finally, we can apply the single filter to our input data. We can achieve this by calling the\n",
        "predict() function on the model. This will return the feature map directly: that is the output\n",
        "of applying the filter systematically across the input sequence."
      ]
    },
    {
      "cell_type": "code",
      "metadata": {},
      "source": [
        "# apply filter to input data\n",
        "yhat = model.predict(data)\n",
        "print(yhat)\n"
      ],
      "outputs": [],
      "execution_count": null
    },
    {
      "cell_type": "markdown",
      "metadata": {},
      "source": [
        "Running the example first prints the weights of the network; that is the confirmation that\n",
        "our handcrafted filter was set in the model as we expected. Next, the filter is applied to the\n",
        "input pattern and the feature map is calculated and displayed. We can see from the values of\n",
        "the feature map that the bump was detected correctly."
      ]
    }
  ],
  "metadata": {
    "anaconda-cloud": {},
    "kernelspec": {
      "display_name": "Python 3",
      "language": "python",
      "name": "python3"
    },
    "language_info": {
      "codemirror_mode": {
        "name": "ipython",
        "version": 3
      },
      "file_extension": ".py",
      "mimetype": "text/x-python",
      "name": "python",
      "nbconvert_exporter": "python",
      "pygments_lexer": "ipython3",
      "version": "3.6.1"
    }
  },
  "nbformat": 4,
  "nbformat_minor": 1
}