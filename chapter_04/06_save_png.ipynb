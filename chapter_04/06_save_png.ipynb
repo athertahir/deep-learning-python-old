{
  "cells": [
    {
      "cell_type": "code",
      "metadata": {},
      "source": [
        "# example of saving an image in another format\n",
        "from PIL import Image\n",
        "# load the image\n",
        "image = Image.open('opera_house.jpg')\n",
        "# save as PNG format\n",
        "image.save('opera_house.png', format='PNG')\n",
        "# load the image again and inspect the format\n",
        "image2 = Image.open('opera_house.png')\n",
        "print(image2.format)"
      ],
      "outputs": [],
      "execution_count": null
    }
  ],
  "metadata": {
    "anaconda-cloud": {},
    "kernelspec": {
      "display_name": "Python 3",
      "language": "python",
      "name": "python3"
    },
    "language_info": {
      "codemirror_mode": {
        "name": "ipython",
        "version": 3
      },
      "file_extension": ".py",
      "mimetype": "text/x-python",
      "name": "python",
      "nbconvert_exporter": "python",
      "pygments_lexer": "ipython3",
      "version": "3.6.1"
    }
  },
  "nbformat": 4,
  "nbformat_minor": 1
}