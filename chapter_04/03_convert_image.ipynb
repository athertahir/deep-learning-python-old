{
  "cells": [
    {
      "cell_type": "code",
      "metadata": {},
      "source": [
        "# load and display an image with Matplotlib\n",
        "from matplotlib import image\n",
        "\n",
        "%matplotlib notebook\n",
        "from matplotlib import pyplot\n",
        "# load image as pixel array\n",
        "data = image.imread('opera_house.jpg')\n",
        "# summarize shape of the pixel array\n",
        "print(data.dtype)\n",
        "print(data.shape)\n",
        "# display the array of pixels as an image\n",
        "pyplot.imshow(data)\n",
        "pyplot.show()"
      ],
      "outputs": [],
      "execution_count": null
    }
  ],
  "metadata": {
    "anaconda-cloud": {},
    "kernelspec": {
      "display_name": "Python 3",
      "language": "python",
      "name": "python3"
    },
    "language_info": {
      "codemirror_mode": {
        "name": "ipython",
        "version": 3
      },
      "file_extension": ".py",
      "mimetype": "text/x-python",
      "name": "python",
      "nbconvert_exporter": "python",
      "pygments_lexer": "ipython3",
      "version": "3.6.1"
    }
  },
  "nbformat": 4,
  "nbformat_minor": 1
}