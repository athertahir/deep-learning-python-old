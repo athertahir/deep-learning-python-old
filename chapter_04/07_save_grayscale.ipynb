{
  "cells": [
    {
      "cell_type": "code",
      "metadata": {},
      "source": [
        "# example of saving a grayscale version of a loaded image\n",
        "from PIL import Image\n",
        "# load the image\n",
        "image = Image.open('opera_house.jpg')\n",
        "# convert the image to grayscale\n",
        "gs_image = image.convert(mode='L')\n",
        "# save in jpeg format\n",
        "gs_image.save('opera_house_grayscale.jpg')\n",
        "# load the image again and show it\n",
        "image2 = Image.open('opera_house_grayscale.jpg')\n",
        "# show the image\n",
        "image2.show()"
      ],
      "outputs": [],
      "execution_count": null
    }
  ],
  "metadata": {
    "anaconda-cloud": {},
    "kernelspec": {
      "display_name": "Python 3",
      "language": "python",
      "name": "python3"
    },
    "language_info": {
      "codemirror_mode": {
        "name": "ipython",
        "version": 3
      },
      "file_extension": ".py",
      "mimetype": "text/x-python",
      "name": "python",
      "nbconvert_exporter": "python",
      "pygments_lexer": "ipython3",
      "version": "3.6.1"
    }
  },
  "nbformat": 4,
  "nbformat_minor": 1
}