{
  "cells": [
    {
      "cell_type": "code",
      "metadata": {},
      "source": [
        "# resize image and force a new shape\n",
        "from PIL import Image\n",
        "from IPython.display import display # to display images\n",
        "\n",
        "# load the image\n",
        "image = Image.open('opera_house.jpg')\n",
        "# report the size of the image\n",
        "print(image.size)\n",
        "# resize image and ignore original aspect ratio\n",
        "img_resized = image.resize((200,200))\n",
        "# report the size of the thumbnail\n",
        "print(img_resized.size)\n",
        "# show the image\n",
        "# img_resized.show()\n",
        "display(img_resized)"
      ],
      "outputs": [],
      "execution_count": null
    }
  ],
  "metadata": {
    "anaconda-cloud": {},
    "kernelspec": {
      "display_name": "Python 3",
      "language": "python",
      "name": "python3"
    },
    "language_info": {
      "codemirror_mode": {
        "name": "ipython",
        "version": 3
      },
      "file_extension": ".py",
      "mimetype": "text/x-python",
      "name": "python",
      "nbconvert_exporter": "python",
      "pygments_lexer": "ipython3",
      "version": "3.6.1"
    }
  },
  "nbformat": 4,
  "nbformat_minor": 1
}