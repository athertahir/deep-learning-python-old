{
  "cells": [
    {
      "cell_type": "code",
      "metadata": {},
      "source": [
        "# load image and convert to and from NumPy array\n",
        "from PIL import Image\n",
        "from numpy import asarray\n",
        "# load the image\n",
        "image = Image.open('opera_house.jpg')\n",
        "# convert image to numpy array\n",
        "data = asarray(image)\n",
        "# summarize shape\n",
        "print(data.shape)\n",
        "# create Pillow image\n",
        "image2 = Image.fromarray(data)\n",
        "# summarize image details\n",
        "print(image2.format)\n",
        "print(image2.mode)\n",
        "print(image2.size)"
      ],
      "outputs": [],
      "execution_count": null
    }
  ],
  "metadata": {
    "anaconda-cloud": {},
    "kernelspec": {
      "display_name": "Python 3",
      "language": "python",
      "name": "python3"
    },
    "language_info": {
      "codemirror_mode": {
        "name": "ipython",
        "version": 3
      },
      "file_extension": ".py",
      "mimetype": "text/x-python",
      "name": "python",
      "nbconvert_exporter": "python",
      "pygments_lexer": "ipython3",
      "version": "3.6.1"
    }
  },
  "nbformat": 4,
  "nbformat_minor": 1
}