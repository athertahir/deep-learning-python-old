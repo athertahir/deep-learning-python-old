{
  "cells": [
    {
      "cell_type": "code",
      "metadata": {},
      "source": [
        "# create a thumbnail of an image\n",
        "from PIL import Image\n",
        "# load the image\n",
        "image = Image.open('opera_house.jpg')\n",
        "# report the size of the image\n",
        "print(image.size)\n",
        "# create a thumbnail and preserve aspect ratio\n",
        "image.thumbnail((100,100))\n",
        "# report the size of the modified image\n",
        "print(image.size)\n",
        "# show the image\n",
        "image.show()"
      ],
      "outputs": [],
      "execution_count": null
    }
  ],
  "metadata": {
    "anaconda-cloud": {},
    "kernelspec": {
      "display_name": "Python 3",
      "language": "python",
      "name": "python3"
    },
    "language_info": {
      "codemirror_mode": {
        "name": "ipython",
        "version": 3
      },
      "file_extension": ".py",
      "mimetype": "text/x-python",
      "name": "python",
      "nbconvert_exporter": "python",
      "pygments_lexer": "ipython3",
      "version": "3.6.1"
    }
  },
  "nbformat": 4,
  "nbformat_minor": 1
}