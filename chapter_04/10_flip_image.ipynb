{
  "cells": [
    {
      "cell_type": "code",
      "metadata": {},
      "source": [
        "# create flipped versions of an image\n",
        "from PIL import Image\n",
        "from matplotlib import pyplot\n",
        "# load image\n",
        "image = Image.open('opera_house.jpg')\n",
        "# horizontal flip\n",
        "hoz_flip = image.transpose(Image.FLIP_LEFT_RIGHT)\n",
        "# vertical flip\n",
        "ver_flip = image.transpose(Image.FLIP_TOP_BOTTOM)\n",
        "# plot all three images using matplotlib\n",
        "pyplot.subplot(311)\n",
        "pyplot.imshow(image)\n",
        "pyplot.subplot(312)\n",
        "pyplot.imshow(hoz_flip)\n",
        "pyplot.subplot(313)\n",
        "pyplot.imshow(ver_flip)\n",
        "pyplot.show()"
      ],
      "outputs": [],
      "execution_count": null
    }
  ],
  "metadata": {
    "anaconda-cloud": {},
    "kernelspec": {
      "display_name": "Python 3",
      "language": "python",
      "name": "python3"
    },
    "language_info": {
      "codemirror_mode": {
        "name": "ipython",
        "version": 3
      },
      "file_extension": ".py",
      "mimetype": "text/x-python",
      "name": "python",
      "nbconvert_exporter": "python",
      "pygments_lexer": "ipython3",
      "version": "3.6.1"
    }
  },
  "nbformat": 4,
  "nbformat_minor": 1
}